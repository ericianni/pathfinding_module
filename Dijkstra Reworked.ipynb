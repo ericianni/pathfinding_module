{
 "cells": [
  {
   "cell_type": "code",
   "execution_count": 1,
   "metadata": {},
   "outputs": [],
   "source": [
    "from __future__ import print_function\n",
    "from ipywidgets import interact, interactive, fixed, interact_manual\n",
    "import ipywidgets as widgets\n",
    "\n",
    "from IPython.display import display, Image"
   ]
  },
  {
   "cell_type": "code",
   "execution_count": 2,
   "metadata": {},
   "outputs": [],
   "source": [
    "'''\n",
    "s = source\n",
    "t = target\n",
    "g = grass\n",
    "f = forest\n",
    "h = hill\n",
    "m = mountain\n",
    "w = wall\n",
    "'''\n",
    "\n",
    "map_1 = [['s','g','g','f','f','g','g','f'],\n",
    "         ['g','g','f','h','h','f','g','g'],\n",
    "         ['f','f','h','m','h','f','h','g'],\n",
    "         ['f','h','m','h','f','h','m','h'],\n",
    "         ['f','h','h','f','g','g','h','m'],\n",
    "         ['f','f','f','g','g','g','g','h'],\n",
    "         ['g','g','g','g','h','g','g','g'],\n",
    "         ['g','m','m','m','m','h','g','t']]\n",
    "\n",
    "map_2 = [['s','g','g','f','f','g','g','f'],\n",
    "         ['g','g','f','h','h','f','g','g'],\n",
    "         ['f','f','h','m','h','f','h','g'],\n",
    "         ['f','h','m','h','f','h','m','h'],\n",
    "         ['f','h','h','f','g','f','h','m'],\n",
    "         ['f','f','f','g','g','g','g','h'],\n",
    "         ['g','g','g','g','h','g','g','g'],\n",
    "         ['g','m','m','m','m','h','g','t']]\n",
    "\n",
    "map_3 = [['s','g','g','g','g','g','g','g'],\n",
    "         ['g','g','g','g','g','g','g','g'],\n",
    "         ['g','g','g','g','g','g','g','g'],\n",
    "         ['g','g','g','g','g','g','g','g'],\n",
    "         ['g','g','g','g','g','g','g','g'],\n",
    "         ['g','g','g','g','g','g','g','g'],\n",
    "         ['g','g','g','g','g','g','g','g'],\n",
    "         ['g','g','g','g','g','g','g','t'],\n",
    "        ]\n",
    "\n",
    "maps = [map_1, map_2, map_3]\n",
    "map_files = ['small_map1.png', 'small_map2.png', 'small_map3.png']\n",
    "\n",
    "directions = [[-1, 0 ], # Up\n",
    "             [ 0, -1],  # Left\n",
    "             [ 1, 0 ],  # Down\n",
    "             [ 0, 1 ]]  # Right\n",
    "\n",
    "direction_symbols = [\"^\", # Up \n",
    "                     \"<\", # Left\n",
    "                     \"V\", # Down\n",
    "                     \">\"] # Right\n",
    "\n",
    "def print_grid(name, grid):\n",
    "    print(name + \": \")\n",
    "    for row in grid:\n",
    "        print(row)\n",
    "    print()"
   ]
  },
  {
   "cell_type": "markdown",
   "metadata": {},
   "source": [
    "### Let's Do This!\n",
    "For the remainder of this module we are going to use graphs that are represented by grids. This will help us visualize pathfinding a bit easier. It also makes the code more straightforward. We will be storing these maps in 2D Python lists that store different terrain types as _chars_. \n",
    "\n",
    "```python\n",
    "'''\n",
    "s = source\n",
    "t = target\n",
    "g = grass\n",
    "f = forest\n",
    "h = hill\n",
    "m = mountain\n",
    "w = wall\n",
    "'''\n",
    "\n",
    "map_1 = [['s','g','g','f','f','g','g','f'],\n",
    "         ['g','g','f','h','h','f','g','g'],\n",
    "         ['f','f','h','m','h','f','h','g'],\n",
    "         ['f','h','m','h','f','h','m','h'],\n",
    "         ['f','h','h','f','g','g','h','m'],\n",
    "         ['f','f','f','g','g','g','g','h'],\n",
    "         ['g','g','g','g','h','g','g','g'],\n",
    "         ['g','m','m','m','m','h','g','t']]\n",
    "\n",
    "``` \n",
    "<img src=\"./images/small_map1.png\" align=\"left\"/>\n",
    "<div style=\"clear: both;\"></div>\n",
    "\n",
    "So now that we have a way to represent our graphs as a map we need a way to convert this into something usable by our algoirthm. So let's make a Graph _class_! What does this class need to do?\n",
    "\n",
    "1. Parse map of chars into cost of movement into each grid square\n",
    "2. Know map specifics such as height, width, source, and target\n",
    "3. Provide access to this information\n",
    "\n",
    "```python\n",
    "# Accepts a map of chars as grid\n",
    "def parse_map(self, grid):\n",
    "        # Save dimensions\n",
    "        self.height = len(grid)\n",
    "        self.width = len(grid[0])\n",
    "        \n",
    "        # Set source and target in case the map doesn't specify\n",
    "        self.source = [0,0]\n",
    "        self.target = [len(grid)-1, len(grid[0])-1]\n",
    "    \n",
    "        # Build an array of same dimensions to store costs of movement (default 1)\n",
    "        self.costs = [[1 for col in range(len(grid[row]))] for row in range(len(grid))]\n",
    "    \n",
    "        # Iterate over map of chars\n",
    "        for row in range(len(self.costs)):\n",
    "            for col in range(len(self.costs[0])):\n",
    "                # Found the source!\n",
    "                if grid[row][col] == 's':\n",
    "                    self.source = [row,col]\n",
    "                # Found the target!\n",
    "                elif grid[row][col] =='t':\n",
    "                    self.target = [row,col]\n",
    "                # Look up the cost for terrain type and assign to costs grid\n",
    "                else:\n",
    "                    self.costs[row][col] = self.cost_legend[grid[row][col]]\n",
    "```\n",
    "\n",
    "The rest of the functionality is straightforward so see the complete _Graph_ class below."
   ]
  },
  {
   "cell_type": "code",
   "execution_count": 9,
   "metadata": {},
   "outputs": [],
   "source": [
    "class Graph:\n",
    "    \n",
    "    # Cost for moving into each terrain type\n",
    "    cost_legend = {'g':1, 'f':2, 'h':3, 'm':4, 'w':float('inf')}\n",
    "    \n",
    "    def __init__(self, grid):\n",
    "        self.map = grid\n",
    "        self.parse_map(grid)\n",
    "        \n",
    "    # Accepts a map of chars as grid\n",
    "    def parse_map(self, grid):\n",
    "        # Save dimensions\n",
    "        self.height = len(grid)\n",
    "        self.width = len(grid[0])\n",
    "        \n",
    "        # Set source and target in case the map doesn't specify\n",
    "        self.source = [0,0]\n",
    "        self.target = [len(grid)-1, len(grid[0])-1]\n",
    "    \n",
    "        # Build an array of same dimensions to store costs of movement (default 1)\n",
    "        self.costs = [[1 for col in range(len(grid[row]))] for row in range(len(grid))]\n",
    "    \n",
    "        # Iterate over map of chars\n",
    "        for row in range(len(self.costs)):\n",
    "            for col in range(len(self.costs[0])):\n",
    "                # Found the source!\n",
    "                if grid[row][col] == 's':\n",
    "                    self.source = [row,col]\n",
    "                # Found the target!\n",
    "                elif grid[row][col] =='t':\n",
    "                    self.target = [row,col]\n",
    "                # Look up the cost for terrain type and assign to costs grid\n",
    "                else:\n",
    "                    self.costs[row][col] = self.cost_legend[grid[row][col]]\n",
    "       \n",
    "    def in_bounds(self, loc):\n",
    "        row, col = loc\n",
    "        return 0 <= row < self.height and 0 <= col < self.width\n",
    "    \n",
    "    def cost(self, loc):\n",
    "        row, col = loc\n",
    "        return self.costs[row][col]"
   ]
  },
  {
   "cell_type": "code",
   "execution_count": null,
   "metadata": {},
   "outputs": [],
   "source": []
  },
  {
   "cell_type": "code",
   "execution_count": 4,
   "metadata": {},
   "outputs": [],
   "source": [
    "def dijkstra(graph):\n",
    "    Q = []\n",
    "    Q.append([0, graph.source])\n",
    "    cur_costs = [[float('inf') for col in range(graph.width)] for row in range(graph.height)]\n",
    "    prev = [[' ' for col in range(graph.width)] for row in range(graph.height)]\n",
    "    cur_costs[graph.source[0]][graph.source[1]] = 0\n",
    "    steps = 0\n",
    "    \n",
    "    while len(Q) > 0:\n",
    "        steps += 1\n",
    "        # Get the closest node\n",
    "        Q.sort()\n",
    "        Q.reverse()\n",
    "        closest = Q.pop()\n",
    "        current = closest[1]\n",
    "        \n",
    "        if current == graph.target:\n",
    "            return cur_costs, prev, steps\n",
    "\n",
    "        for i in range(len(directions)):\n",
    "            n_row = current[0] + directions[i][0]\n",
    "            n_col = current[1] + directions[i][1]\n",
    "            if graph.in_bounds([n_row, n_col]):\n",
    "                new_cost = cur_costs[current[0]][current[1]] + graph.cost([n_row, n_col])\n",
    "                if new_cost < cur_costs[n_row][n_col]:\n",
    "                    cur_costs[n_row][n_col] = new_cost\n",
    "                    Q.append([new_cost, [n_row, n_col]])\n",
    "                    prev[n_row][n_col] = i\n",
    "                    \n",
    "    return cur_costs, prev, steps\n",
    "\n",
    "def build_path(prev, source, target):\n",
    "    path = [[' ' for col in range(len(prev[row]))] for row in range(len(prev))]\n",
    "    row = target[0]\n",
    "    col = target[1]\n",
    "    path[row][col] = '*'\n",
    "    while row != source[0] or col != source[1]:\n",
    "        new_row = row - directions[prev[row][col]][0]\n",
    "        new_col = col - directions[prev[row][col]][1]\n",
    "        path[new_row][new_col] = direction_symbols[prev[row][col]]\n",
    "        row = new_row\n",
    "        col = new_col\n",
    "    return path"
   ]
  },
  {
   "cell_type": "code",
   "execution_count": 10,
   "metadata": {},
   "outputs": [
    {
     "data": {
      "application/vnd.jupyter.widget-view+json": {
       "model_id": "64b02690857d4371bc632fc5336a233c",
       "version_major": 2,
       "version_minor": 0
      },
      "text/html": [
       "<p>Failed to display Jupyter Widget of type <code>interactive</code>.</p>\n",
       "<p>\n",
       "  If you're reading this message in the Jupyter Notebook or JupyterLab Notebook, it may mean\n",
       "  that the widgets JavaScript is still loading. If this message persists, it\n",
       "  likely means that the widgets JavaScript library is either not installed or\n",
       "  not enabled. See the <a href=\"https://ipywidgets.readthedocs.io/en/stable/user_install.html\">Jupyter\n",
       "  Widgets Documentation</a> for setup instructions.\n",
       "</p>\n",
       "<p>\n",
       "  If you're reading this message in another frontend (for example, a static\n",
       "  rendering on GitHub or <a href=\"https://nbviewer.jupyter.org/\">NBViewer</a>),\n",
       "  it may mean that your frontend doesn't currently support widgets.\n",
       "</p>\n"
      ],
      "text/plain": [
       "interactive(children=(Dropdown(description=u'map_select', options=(1, 2, 3), value=1), Output()), _dom_classes=('widget-interact',))"
      ]
     },
     "metadata": {},
     "output_type": "display_data"
    },
    {
     "data": {
      "text/plain": [
       "<function __main__.run_dijkstra>"
      ]
     },
     "execution_count": 10,
     "metadata": {},
     "output_type": "execute_result"
    }
   ],
   "source": [
    "def run_dijkstra(map_select):\n",
    "    graph = Graph(maps[map_select - 1])\n",
    "    costs, prev, steps = dijkstra(graph)\n",
    "    print_grid(\"Costs:\", costs)\n",
    "    path = build_path(prev, graph.source, graph.target)\n",
    "    print_grid(\"Path\", path),\n",
    "    print(\"Number of steps: \" + str(steps))\n",
    "    display(Image(filename='./images/' + map_files[map_select-1]))\n",
    "    \n",
    "interact(run_dijkstra, map_select=[1,2,3])"
   ]
  },
  {
   "cell_type": "code",
   "execution_count": 6,
   "metadata": {},
   "outputs": [],
   "source": [
    "def heuristic(a, b):\n",
    "    row_1, col_1 = a\n",
    "    row_2, col_2 = b\n",
    "    return abs(row_1 - row_2) + abs(col_1 - col_2)\n",
    "\n",
    "def a_star(graph):\n",
    "    Q = []\n",
    "    Q.append([0, graph.source])\n",
    "    cur_costs = [[float('inf') for col in range(graph.width)] for row in range(graph.height)]\n",
    "    prev = [[' ' for col in range(graph.width)] for row in range(graph.height)]\n",
    "    cur_costs[graph.source[0]][graph.source[1]] = 0\n",
    "    steps = 0\n",
    "    \n",
    "    while len(Q) > 0:\n",
    "        steps += 1\n",
    "        # Get the closest node\n",
    "        Q.sort()\n",
    "        Q.reverse()\n",
    "        closest = Q.pop()\n",
    "        current = closest[1]\n",
    "        \n",
    "        if current == graph.target:\n",
    "            return cur_costs, prev, steps\n",
    "        \n",
    "        for i in range(len(directions)):\n",
    "            n_row = current[0] + directions[i][0]\n",
    "            n_col = current[1] + directions[i][1]\n",
    "            if graph.in_bounds([n_row, n_col]):\n",
    "                new_cost = cur_costs[current[0]][current[1]] + graph.cost([n_row, n_col])\n",
    "                if new_cost < cur_costs[n_row][n_col]:\n",
    "                    cur_costs[n_row][n_col] = new_cost\n",
    "                    Q.append([new_cost + heuristic(graph.target, [n_row, n_col]), [n_row, n_col]])\n",
    "                    prev[n_row][n_col] = i\n",
    "                    \n",
    "    return cur_costs, prev, steps"
   ]
  },
  {
   "cell_type": "code",
   "execution_count": 7,
   "metadata": {},
   "outputs": [
    {
     "data": {
      "application/vnd.jupyter.widget-view+json": {
       "model_id": "da02d1815f02461b9b831100244ab5e9",
       "version_major": 2,
       "version_minor": 0
      },
      "text/html": [
       "<p>Failed to display Jupyter Widget of type <code>interactive</code>.</p>\n",
       "<p>\n",
       "  If you're reading this message in the Jupyter Notebook or JupyterLab Notebook, it may mean\n",
       "  that the widgets JavaScript is still loading. If this message persists, it\n",
       "  likely means that the widgets JavaScript library is either not installed or\n",
       "  not enabled. See the <a href=\"https://ipywidgets.readthedocs.io/en/stable/user_install.html\">Jupyter\n",
       "  Widgets Documentation</a> for setup instructions.\n",
       "</p>\n",
       "<p>\n",
       "  If you're reading this message in another frontend (for example, a static\n",
       "  rendering on GitHub or <a href=\"https://nbviewer.jupyter.org/\">NBViewer</a>),\n",
       "  it may mean that your frontend doesn't currently support widgets.\n",
       "</p>\n"
      ],
      "text/plain": [
       "interactive(children=(Dropdown(description=u'map_select', options=(1, 2, 3), value=1), Output()), _dom_classes=('widget-interact',))"
      ]
     },
     "metadata": {},
     "output_type": "display_data"
    },
    {
     "data": {
      "text/plain": [
       "<function __main__.run_a_star>"
      ]
     },
     "execution_count": 7,
     "metadata": {},
     "output_type": "execute_result"
    }
   ],
   "source": [
    "def run_a_star(map_select):\n",
    "    graph = Graph(maps[map_select - 1])\n",
    "    costs, prev, steps = a_star(graph)\n",
    "    print_grid(\"Costs:\", costs)\n",
    "    path = build_path(prev, graph.source, graph.target)\n",
    "    print_grid(\"Path\", path),\n",
    "    print(\"Number of steps: \" + str(steps))\n",
    "    display(Image(filename='./images/' + map_files[map_select-1]))\n",
    "    \n",
    "interact(run_a_star, map_select=[1,2,3])"
   ]
  },
  {
   "cell_type": "code",
   "execution_count": 8,
   "metadata": {},
   "outputs": [
    {
     "data": {
      "text/plain": [
       "[11, 15, 16, 17, 20, 20, 19, 20]"
      ]
     },
     "execution_count": 8,
     "metadata": {},
     "output_type": "execute_result"
    }
   ],
   "source": [
    "[0, 1, 2, 4, 6, 7, 8, 10]\n",
    "[1, 2, 4, 7, 9, 9, 9, 10]\n",
    "[3, 4, 7, 11, 12, 11, 12, 11]\n",
    "[5, 7, 11, 14, 14, 14, 16, 14]\n",
    "[7, 10, 13, 15, 15, 16, 19, 18]\n",
    "[9, 11, 13, 14, 15, 16, 17, 20]\n",
    "[10, 11, 12, 13, 16, 17, 18, 19]\n",
    "[11, 15, 16, 17, 20, 20, 19, 20]\n",
    "\n",
    "[0, 1, 2, 4, 6, 7, 8, 10]\n",
    "[1, 2, 4, 7, 9, 9, 9, 10]\n",
    "[3, 4, 7, 11, 12, 11, 12, 11]\n",
    "[5, 7, 11, 14, 14, 14, 16, 14]\n",
    "[7, 10, 13, 16, 16, 16, 20, 18]\n",
    "[9, 11, 13, 14, 15, 16, 17, 20]\n",
    "[10, 11, 12, 13, 16, 17, 18, 19]\n",
    "[11, 15, 16, 17, 20, 20, 19, 20]"
   ]
  }
 ],
 "metadata": {
  "kernelspec": {
   "display_name": "Python 2",
   "language": "python",
   "name": "python2"
  },
  "language_info": {
   "codemirror_mode": {
    "name": "ipython",
    "version": 2
   },
   "file_extension": ".py",
   "mimetype": "text/x-python",
   "name": "python",
   "nbconvert_exporter": "python",
   "pygments_lexer": "ipython2",
   "version": "2.7.13"
  }
 },
 "nbformat": 4,
 "nbformat_minor": 2
}
