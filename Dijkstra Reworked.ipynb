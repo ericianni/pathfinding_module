{
 "cells": [
  {
   "cell_type": "code",
   "execution_count": 1,
   "metadata": {
    "collapsed": true
   },
   "outputs": [],
   "source": [
    "from __future__ import print_function\n",
    "from ipywidgets import interact, interactive, fixed, interact_manual\n",
    "import ipywidgets as widgets\n",
    "\n",
    "from IPython.display import display, Image"
   ]
  },
  {
   "cell_type": "code",
   "execution_count": 177,
   "metadata": {
    "collapsed": true
   },
   "outputs": [],
   "source": [
    "'''\n",
    "s = source\n",
    "t = target\n",
    "g = grass\n",
    "f = forest\n",
    "h = hill\n",
    "m = mountain\n",
    "w = wall\n",
    "'''\n",
    "\n",
    "map_1 = [['s','g','g','f','f','g','g','f'],\n",
    "         ['g','g','f','h','h','f','g','g'],\n",
    "         ['f','f','h','m','h','f','h','g'],\n",
    "         ['f','h','m','h','f','h','m','h'],\n",
    "         ['f','h','h','f','g','g','h','m'],\n",
    "         ['f','f','f','g','g','g','g','h'],\n",
    "         ['g','g','g','g','h','g','g','g'],\n",
    "         ['g','m','m','m','m','h','g','t']]\n",
    "\n",
    "map_2 = [['s','g','g','f','f','g','g','f'],\n",
    "         ['g','g','f','h','h','f','g','g'],\n",
    "         ['f','f','h','m','h','f','h','g'],\n",
    "         ['f','h','m','h','f','h','m','h'],\n",
    "         ['f','h','h','f','g','f','h','m'],\n",
    "         ['f','f','f','g','g','g','g','h'],\n",
    "         ['g','g','g','g','h','g','g','g'],\n",
    "         ['g','m','m','m','m','h','g','t']]\n",
    "\n",
    "map_3 = [['s','g','g','g','g','g','g','g'],\n",
    "         ['g','g','g','g','g','g','g','g'],\n",
    "         ['g','g','g','g','g','g','g','g'],\n",
    "         ['g','g','g','g','g','g','g','g'],\n",
    "         ['g','g','g','g','g','g','g','g'],\n",
    "         ['g','g','g','g','g','g','g','g'],\n",
    "         ['g','g','g','g','g','g','g','g'],\n",
    "         ['g','g','g','g','g','g','g','t'],\n",
    "        ]\n",
    "\n",
    "maps = [map_1, map_2, map_3]\n",
    "map_files = ['small_map1.png', 'small_map2.png', 'small_map3.png']\n",
    "\n",
    "directions = [[-1, 0 ], # Up\n",
    "             [ 0, -1],  # Left\n",
    "             [ 1, 0 ],  # Down\n",
    "             [ 0, 1 ]]  # Right\n",
    "\n",
    "direction_symbols = [\"^\", # Up \n",
    "                     \"<\", # Left\n",
    "                     \"V\", # Down\n",
    "                     \">\"] # Right\n",
    "\n",
    "# def build_map(graph):\n",
    "#     legend = {'g':1, 'f':2, 'h':3, 'm':4, 'w':float('inf')}\n",
    "#     source = [0,0]\n",
    "#     target = [len(graph)-1, len(graph[0])-1]\n",
    "#     grid = [[1 for col in range(len(graph[row]))] for row in range(len(graph))]\n",
    "#     for row in range(len(graph)):\n",
    "#         for col in range(len(graph[0])):\n",
    "#             if graph[row][col] == 's':\n",
    "#                 source = [row,col]\n",
    "#             elif graph[row][col] =='t':\n",
    "#                 target = [row,col]\n",
    "#             else:\n",
    "#                 grid[row][col] = legend[graph[row][col]]\n",
    "#     return source, target, grid\n",
    "\n",
    "def print_grid(name, grid):\n",
    "    print(name + \": \")\n",
    "    for row in grid:\n",
    "        print(row)\n",
    "    print()"
   ]
  },
  {
   "cell_type": "code",
   "execution_count": 164,
   "metadata": {},
   "outputs": [],
   "source": [
    "class Graph:\n",
    "    \n",
    "    directions = [[-1, 0 ], # Up\n",
    "                       [ 0, -1],  # Left\n",
    "                       [ 1, 0 ],  # Down\n",
    "                       [ 0, 1 ]]  # Right\n",
    "    \n",
    "    cost_legend = {'g':1, 'f':2, 'h':3, 'm':4, 'w':float('inf')}\n",
    "    \n",
    "    def __init__(self, grid):\n",
    "        self.map = grid\n",
    "        self.parse_map(grid)\n",
    "        \n",
    "    \n",
    "    def parse_map(self, grid):\n",
    "        self.height = len(grid)\n",
    "        self.width = len(grid[0])\n",
    "        self.source = [0,0]\n",
    "        self.target = [len(grid)-1, len(grid[0])-1]\n",
    "        self.costs = [[1 for col in range(len(grid[row]))] for row in range(len(grid))]\n",
    "        for row in range(len(self.costs)):\n",
    "            for col in range(len(self.costs[0])):\n",
    "                if grid[row][col] == 's':\n",
    "                    self.source = [row,col]\n",
    "                elif grid[row][col] =='t':\n",
    "                    self.target = [row,col]\n",
    "                else:\n",
    "                    self.costs[row][col] = self.cost_legend[grid[row][col]]\n",
    "       \n",
    "    def in_bounds(self, loc):\n",
    "        row, col = loc\n",
    "        return 0 <= row < self.height and 0 <= col < self.width\n",
    "\n",
    "    def neighbors(self, loc):\n",
    "        row, col = loc\n",
    "        neighbors = []\n",
    "        for direction in self.directions:\n",
    "            neighbor = [(row + direction[0]), (col + direction[1])]\n",
    "            if self.in_bounds(neighbor):\n",
    "                neighbors.append(neighbor)\n",
    "        return neighbors\n",
    "    \n",
    "    def cost(self, loc):\n",
    "        row, col = loc\n",
    "        return self.costs[row][col]"
   ]
  },
  {
   "cell_type": "code",
   "execution_count": 170,
   "metadata": {},
   "outputs": [],
   "source": [
    "def dijkstra(graph):\n",
    "    Q = []\n",
    "    Q.append([0, graph.source])\n",
    "    cur_costs = [[float('inf') for col in range(graph.width)] for row in range(graph.height)]\n",
    "    prev = [[' ' for col in range(graph.width)] for row in range(graph.height)]\n",
    "    cur_costs[graph.source[0]][graph.source[1]] = 0\n",
    "    steps = 0\n",
    "    \n",
    "    while len(Q) > 0:\n",
    "        steps += 1\n",
    "        # Get the closest node\n",
    "        Q.sort()\n",
    "        Q.reverse()\n",
    "        closest = Q.pop()\n",
    "        current = closest[1]\n",
    "        \n",
    "        if current == graph.target:\n",
    "            return cur_costs, prev, steps\n",
    "        \n",
    "#         for neighbor in graph.neighbors(current):\n",
    "#             # add the cost of moving into the grid square\n",
    "#             new_cost = cur_costs[current[0]][current[1]] + graph.cost(neighbor)\n",
    "#             if new_cost < cur_costs[neighbor[0]][neighbor[1]]:\n",
    "#                 cur_costs[neighbor[0]][neighbor[1]] = new_cost\n",
    "#                 Q.append([new_cost, neighbor])\n",
    "\n",
    "        for i in range(len(directions)):\n",
    "            n_row = current[0] + directions[i][0]\n",
    "            n_col = current[1] + directions[i][1]\n",
    "            if 0 <= n_row < graph.height and 0 <= n_col < graph.width:\n",
    "                new_cost = cur_costs[current[0]][current[1]] + graph.cost([n_row, n_col])\n",
    "                if new_cost < cur_costs[n_row][n_col]:\n",
    "                    cur_costs[n_row][n_col] = new_cost\n",
    "                    Q.append([new_cost, [n_row, n_col]])\n",
    "                    prev[n_row][n_col] = i\n",
    "                    \n",
    "    return cur_costs, prev, steps\n",
    "\n",
    "def build_path(prev, source, target):\n",
    "    path = [[' ' for col in range(len(prev[row]))] for row in range(len(prev))]\n",
    "    row = target[0]\n",
    "    col = target[1]\n",
    "    path[row][col] = '*'\n",
    "    while row != source[0] or col != source[1]:\n",
    "        new_row = row - directions[prev[row][col]][0]\n",
    "        new_col = col - directions[prev[row][col]][1]\n",
    "        path[new_row][new_col] = policy_values[prev[row][col]]\n",
    "        row = new_row\n",
    "        col = new_col\n",
    "    return path"
   ]
  },
  {
   "cell_type": "code",
   "execution_count": 178,
   "metadata": {},
   "outputs": [
    {
     "data": {
      "application/vnd.jupyter.widget-view+json": {
       "model_id": "406d06b3d6b245e1b4af884cce32da0f",
       "version_major": 2,
       "version_minor": 0
      },
      "text/plain": [
       "interactive(children=(Dropdown(description=u'map_select', options=(1, 2, 3), value=1), Output()), _dom_classesâ€¦"
      ]
     },
     "metadata": {},
     "output_type": "display_data"
    },
    {
     "data": {
      "text/plain": [
       "<function __main__.run_dijkstra>"
      ]
     },
     "execution_count": 178,
     "metadata": {},
     "output_type": "execute_result"
    }
   ],
   "source": [
    "def run_dijkstra(map_select):\n",
    "    graph = Graph(maps[map_select - 1])\n",
    "    costs, prev, steps = dijkstra(graph)\n",
    "    print_grid(\"Costs:\", costs)\n",
    "    path = build_path(prev, graph.source, graph.target)\n",
    "    print_grid(\"Path\", path),\n",
    "    print(\"Number of steps: \" + str(steps))\n",
    "    display(Image(filename='./images/' + map_files[map_select-1]))\n",
    "    \n",
    "interact(run_dijkstra, map_select=[1,2,3])"
   ]
  },
  {
   "cell_type": "code",
   "execution_count": 175,
   "metadata": {},
   "outputs": [],
   "source": [
    "def heuristic(a, b):\n",
    "    row_1, col_1 = a\n",
    "    row_2, col_2 = b\n",
    "    return abs(row_1 - row_2) + abs(col_1 - col_2)\n",
    "\n",
    "def a_star(graph):\n",
    "    Q = []\n",
    "    Q.append([0, graph.source])\n",
    "    cur_costs = [[float('inf') for col in range(graph.width)] for row in range(graph.height)]\n",
    "    prev = [[' ' for col in range(graph.width)] for row in range(graph.height)]\n",
    "    cur_costs[graph.source[0]][graph.source[1]] = 0\n",
    "    steps = 0\n",
    "    \n",
    "    while len(Q) > 0:\n",
    "        steps += 1\n",
    "        # Get the closest node\n",
    "        Q.sort()\n",
    "        Q.reverse()\n",
    "        closest = Q.pop()\n",
    "        current = closest[1]\n",
    "        \n",
    "        if current == graph.target:\n",
    "            return cur_costs, prev, steps\n",
    "        \n",
    "        for i in range(len(directions)):\n",
    "            n_row = current[0] + directions[i][0]\n",
    "            n_col = current[1] + directions[i][1]\n",
    "            if 0 <= n_row < graph.height and 0 <= n_col < graph.width:\n",
    "                new_cost = cur_costs[current[0]][current[1]] + graph.cost([n_row, n_col])\n",
    "                if new_cost < cur_costs[n_row][n_col]:\n",
    "                    cur_costs[n_row][n_col] = new_cost\n",
    "                    Q.append([new_cost + heuristic(graph.target, [n_row, n_col]), [n_row, n_col]])\n",
    "                    prev[n_row][n_col] = i\n",
    "                    \n",
    "    return cur_costs, prev, steps"
   ]
  },
  {
   "cell_type": "code",
   "execution_count": 179,
   "metadata": {},
   "outputs": [
    {
     "data": {
      "application/vnd.jupyter.widget-view+json": {
       "model_id": "3b81d3e1137f4e8a9b2791aeb12139cb",
       "version_major": 2,
       "version_minor": 0
      },
      "text/plain": [
       "interactive(children=(Dropdown(description=u'map_select', options=(1, 2, 3), value=1), Output()), _dom_classesâ€¦"
      ]
     },
     "metadata": {},
     "output_type": "display_data"
    },
    {
     "data": {
      "text/plain": [
       "<function __main__.run_a_star>"
      ]
     },
     "execution_count": 179,
     "metadata": {},
     "output_type": "execute_result"
    }
   ],
   "source": [
    "def run_a_star(map_select):\n",
    "    graph = Graph(maps[map_select - 1])\n",
    "    costs, prev, steps = a_star(graph)\n",
    "    print_grid(\"Costs:\", costs)\n",
    "    path = build_path(prev, graph.source, graph.target)\n",
    "    print_grid(\"Path\", path),\n",
    "    print(\"Number of steps: \" + str(steps))\n",
    "    display(Image(filename='./images/' + map_files[map_select-1]))\n",
    "    \n",
    "interact(run_a_star, map_select=[1,2,3])"
   ]
  }
 ],
 "metadata": {
  "kernelspec": {
   "display_name": "Python 2",
   "language": "python",
   "name": "python2"
  },
  "language_info": {
   "codemirror_mode": {
    "name": "ipython",
    "version": 2
   },
   "file_extension": ".py",
   "mimetype": "text/x-python",
   "name": "python",
   "nbconvert_exporter": "python",
   "pygments_lexer": "ipython2",
   "version": "2.7.13"
  }
 },
 "nbformat": 4,
 "nbformat_minor": 2
}
