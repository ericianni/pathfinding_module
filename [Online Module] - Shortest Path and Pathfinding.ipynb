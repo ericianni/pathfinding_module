{
 "cells": [
  {
   "cell_type": "code",
   "execution_count": 1,
   "metadata": {
    "collapsed": true
   },
   "outputs": [],
   "source": [
    "from __future__ import print_function\n",
    "from ipywidgets import interact, interactive, fixed, interact_manual\n",
    "import ipywidgets as widgets\n",
    "\n",
    "from IPython.display import display, Image"
   ]
  },
  {
   "cell_type": "markdown",
   "metadata": {},
   "source": [
    "# Introduction to Shortest Path and Pathfinding\n",
    "### Designed by Eric Ianni\n",
    "\n",
    "### Prerequisites\n",
    "* Knowledge of how to use a Jupyter Notebook\n",
    "* Knowledge of basic Python and the use of multi-dimensional arrays\n",
    "* Knowledge of basic weighted graphs\n",
    "\n",
    "### Let's Paint a Picture!\n",
    "\n",
    "Imagine you are a playing a turn-based computer game where you have a limited number of movement points per turn. Your task is to start at the village in the top left and make it to the chest in the castle as quickly as possible without moving diagonally.\n",
    "\n",
    "<img src=\"images/castle_map.png\" align=\"right\"/>\n",
    "\n",
    "To you, as a human, it is very easy to see that the only clear path is around the North of the castle, back down the East and across the bridges in the South.  You are able to process the entire map at once and quickly identify dead ends.\n",
    "\n",
    "To a computer this task isn't that easy. Computers are limited in how much of the \"big picture\" they can see and have to approach problems in single steps at a time. \n",
    "\n",
    "Now imagine you are told that it is possible to cross water tiles, but there is a movement penalty. All of a sudden the task isn't so easy as you have to consider if swimming the moat is faster than the long way. Still, you can probably figure out that crossing the one water tile to the South-West is probably the fastest route.\n",
    "\n",
    "Now imagine it is possible to climb the castle walls, but with a stiff movement penalty. Can you still confidently say for sure you know the fastest path without sitting down and doing the math for multiple different routes?\n",
    "\n",
    "In this latest scenario you find yourself approaching the problem how a computer  does!\n",
    "\n",
    "### Welcome to Pathfinding!\n",
    "\n",
    "In this module you will learn about how computers solve the _Shortest Path Problem_ by using different _Pathfinding_ algorithms. We will begin by examining real world problems that require a shortest path. Next, we will learn to frame those problems as _graphs_ so we can apply different algorithms. Finally, we will examine these algorithms and how each approach the problem differently. \n",
    "\n",
    "### Learning Objectives\n",
    "\n",
    "* Define the _Shortest Path Problem_ and give examples\n",
    "* Describe _Depth First Search_ and _Breadth First Search_ while citing the differences and the required data structures\n",
    "* Describe Dijkstra's algorithm and implement\n",
    "* Describe the A* algorithm and implement"
   ]
  },
  {
   "cell_type": "markdown",
   "metadata": {
    "collapsed": true
   },
   "source": [
    "## What is Pathfinding?\n",
    "The simplest definition of _pathfinding_ is finding a route (_path_) between points A and B. We do this all the time everyday of our lives. When driving to the store we have to pick which streets to follow to get there. Even the simple act of crossing a room is an act of selecting a route, even more so if you have children leaving toys on the ground!\n",
    "\n",
    "While you or I use our eyes and intuition for many _pathfinding_ tasks, computers must rely on other approaches. Most computational _pathfinding_ makes heavy use of _graph theory_. This involves defining the given situation as a _graph_: a series of nodes and edges. \n",
    "\n",
    "To demonstrate this process, let's imagine a bus-network between a few cities: New York City, Boston, Washington D.C., Columbus, and Chicago. To represent the network, we begin by designating each city a _vertex_ in the graph. We then create an _edge_ between vertices to mirror the bus-routes. Finally we can assign the number of miles between the cities as the edge _weights_.\n",
    "\n",
    "![City Graph](./images/city_graph.png)\n",
    "\n",
    "That's it! Nearly anything that can be represented as relationships between objects can be turned into a graph. Now that we have learned how to frame a problem in a way for computers to understand, it is time to actually find a path.\n",
    "\n",
    "## Introducing Twiddle Dee and Twiddle Dumb\n",
    "\n",
    "The first two algorithms we are going to examine are _Depth First Search_ (DFS) and _Breadth First Search_ (BFS). These two methods are what I would call _dumb_ in that they are brute force approaches to the problem of _pathfinding_. \n",
    "\n",
    "They get their name from how they search through _tree graphs_. _DFS_ searches down a single branch until it reaches a leaf before it backtracks. _BFS_, on the other hand, searches each child node before moving onto lower levels of the tree.  \n",
    "\n",
    "![DFS vs. BFS in Binary Trees](./images/binary_tree_search.png)(image borrowed from http://mishadoff.com/blog/dfs-on-binary-tree-array/)\n",
    "\n",
    "When not being used for _pathfinding_, _DFS_ and _BFS_ return a list of nodes in the order in which they were visited/searched. Given the binary-trees above:\n",
    "\n",
    "* DFS would return **[0,1,3,4,2,5,6]** \n",
    "* BFS would return **[0,1,2,3,4,5,6]**\n",
    "\n",
    "## Let's see these two in action!\n",
    "\n",
    "To demonstrate how _DFS_ and _BFS_ work we will be using the following graph.\n",
    "\n",
    "![DFS & BFS Graph](./images/dfs_bfs_graph.png)\n",
    "(Image borrowed from https://eddmann.com/posts/depth-first-search-and-breadth-first-search-in-python/)\n",
    "\n",
    "Below you will find two code snippets that implement _DFS_ and _BFS_. You will be able to run these algorithms with different parameters to get a feel for how each search works. \n",
    "\n",
    "Begin by simply running the cells (ctrl-enter) and trying different values for the starting node and the goal node. Try the same values for both algorithms. \n",
    "\n",
    "After you have experimented, try to answer the following questions:\n",
    "\n",
    "1. Why don't _DFS_ and _BFS_ come up with the same path?\n",
    "2. Why does _BFS_ seem to be able to find shorter paths than _DFS_? (look at start: 'A' and goal: 'C')\n",
    "3. Pay attention to the number of steps required, why are they different?\n",
    "4. What does that mean for the value for each of these searches?\n",
    "\n",
    "Now go have fun!"
   ]
  },
  {
   "cell_type": "markdown",
   "metadata": {},
   "source": [
    "### Depth First Search Playground"
   ]
  },
  {
   "cell_type": "code",
   "execution_count": 2,
   "metadata": {},
   "outputs": [
    {
     "data": {
      "application/vnd.jupyter.widget-view+json": {
       "model_id": "0757088e4fe4488ea722c604456fd5e2",
       "version_major": 2,
       "version_minor": 0
      },
      "text/plain": [
       "interactive(children=(Dropdown(description=u'start', options=('A', 'B', 'C', 'D', 'E', 'F'), value='A'), Dropdâ€¦"
      ]
     },
     "metadata": {},
     "output_type": "display_data"
    },
    {
     "data": {
      "text/plain": [
       "<function __main__.run_dfs>"
      ]
     },
     "execution_count": 2,
     "metadata": {},
     "output_type": "execute_result"
    }
   ],
   "source": [
    "# Code modified from https://eddmann.com/posts/depth-first-search-and-breadth-first-search-in-python/\n",
    "\n",
    "graph = {'A': set(['B', 'C']),\n",
    "         'B': set(['A', 'D', 'E']),\n",
    "         'C': set(['A', 'F']),\n",
    "         'D': set(['B']),\n",
    "         'E': set(['B', 'F']),\n",
    "         'F': set(['C', 'E'])}\n",
    "            \n",
    "def dfs(graph, start, goal):\n",
    "    steps = 0\n",
    "    stack = [(start, [start])]\n",
    "    while stack:\n",
    "        steps += 1\n",
    "        (vertex, path) = stack.pop()\n",
    "        if vertex == goal:\n",
    "            return path, steps\n",
    "        for next in graph[vertex] - set(path):\n",
    "            stack.append((next, path + [next]))\n",
    "\n",
    "def run_dfs(start, goal):\n",
    "    path, steps = dfs(graph, start, goal)\n",
    "    print(\"Path: \" + str(path))\n",
    "    print(\"Steps: \" + str(steps))\n",
    "\n",
    "interact(run_dfs, start=['A','B','C','D','E','F'], goal=['A','B','C','D','E','F'])\n"
   ]
  },
  {
   "cell_type": "markdown",
   "metadata": {},
   "source": [
    "### Breadth First Search Playground"
   ]
  },
  {
   "cell_type": "code",
   "execution_count": 3,
   "metadata": {},
   "outputs": [
    {
     "data": {
      "application/vnd.jupyter.widget-view+json": {
       "model_id": "21d4f51e756344b2800d984e9981aebc",
       "version_major": 2,
       "version_minor": 0
      },
      "text/plain": [
       "interactive(children=(Dropdown(description=u'start', options=('A', 'B', 'C', 'D', 'E', 'F'), value='A'), Dropdâ€¦"
      ]
     },
     "metadata": {},
     "output_type": "display_data"
    },
    {
     "data": {
      "text/plain": [
       "<function __main__.run_bfs>"
      ]
     },
     "execution_count": 3,
     "metadata": {},
     "output_type": "execute_result"
    }
   ],
   "source": [
    "# Code modified from https://eddmann.com/posts/depth-first-search-and-breadth-first-search-in-python/\n",
    "\n",
    "graph = {'A': set(['B', 'C']),\n",
    "         'B': set(['A', 'D', 'E']),\n",
    "         'C': set(['A', 'F']),\n",
    "         'D': set(['B']),\n",
    "         'E': set(['B', 'F']),\n",
    "         'F': set(['C', 'E'])}\n",
    "\n",
    "def bfs(graph, start, goal):\n",
    "    steps = 0\n",
    "    queue = [(start, [start])]\n",
    "    while queue:\n",
    "        steps += 1\n",
    "        (vertex, path) = queue.pop(0)\n",
    "        if vertex == goal:\n",
    "            return path, steps\n",
    "        for next in graph[vertex] - set(path):\n",
    "            queue.append((next, path + [next]))\n",
    "\n",
    "def run_bfs(start, goal):\n",
    "    path, steps = bfs(graph, start, goal)\n",
    "    print(\"Path: \" + str(path))\n",
    "    print(\"Steps: \" + str(steps))\n",
    "\n",
    "interact(run_bfs, start=['A','B','C','D','E','F'], goal=['A','B','C','D','E','F'])\n"
   ]
  },
  {
   "cell_type": "markdown",
   "metadata": {},
   "source": [
    "### Time to Debrief\n",
    "\n",
    "I hope you had fun experimenting with both searches. Did you have time to answer those questions?\n",
    "1. Why don't _DFS_ and _BFS_ come up with the same path?\n",
    "   * _DFS_ rushes head long down a single path until it hits a dead end. _BFS_ cautiously expands the search radius little by little\n",
    "   \n",
    "2. Why does _BFS_ seem to be able to find shorter paths than _DFS_? (look at start: 'A' and goal: 'C')\n",
    "   * _BFS's_ cautious approach means if the goal node is close by, it doesn't run past it like _DFS_ does\n",
    "   \n",
    "3. Pay attention to the number of steps required, why are they different?\n",
    "   * If _DFS_ gets lucky and picks the correct path to pursue, it will find the goal with fewer steps, even if it is far away. _BFS_ is very efficient when finding closer goals, but if the graph has many branches and the goal is far away, the number of required steps escalates quickly!\n",
    "   \n",
    "4. What does that mean for the value for each of these searches?\n",
    "   * With _BFS_ you are guaranteed the shortest path but you may have to examine many more nodes. With _DFS_, you are guaranteed to find _a_ path and there is no requirement to completely cover the graph, but the path isn't guaranteed to be the shortest. What search to use depends on the number of nodes to search and how important it is to have the shortest path\n",
    "\n",
    "   \n",
    "This leads nicely into our next topic!"
   ]
  },
  {
   "cell_type": "markdown",
   "metadata": {
    "collapsed": true
   },
   "source": [
    "## What is a Shortest Path Problem?\n",
    "Simply put, it is any problem that requires finding the path between two points that is deemed the _shortest_. In the context of _graphs_, one path is shorter than another path when the sum of the _weights_ is smaller. Both _Directed_ and _Undirected_ graphs can be used to represent _shortest path problems_.\n",
    "\n",
    "Let's look at an example. Below is a weighted graph and our task is to find the _shortest path_ from *A* to *F*.\n",
    "\n",
    "![Weighted Graph 1](./images/graph1.png) \n",
    "\n",
    "At first glance it may look like _A->E->F_ is the answer as it only has two steps, but it has a total weight of 12.\n",
    "\n",
    "![Weighted Graph 1 AEF](./images/graph1AEF.png)\n",
    "\n",
    "The actual _shortest path_ is A->B->D->C->E->F. While it takes a whopping 5 steps(!), but it has a total weight of 11.\n",
    "\n",
    "![Weighted Graph 1 ABDCEF](./images/graph1ABDCEF.png)\n",
    "\n",
    "## Shortest Paths in the Wild\n",
    "There are countless examples of real life problems that require knowing the _shortest path_. \n",
    "\n",
    "* Navigating with Google Maps\n",
    "* Routing internet traffic\n",
    "* Enemy movement in a video game \n",
    "\n",
    "As long as the problem can be represented as a weighted graph, it can be a _shortest path problem_. In the case of driving directions, intersections can be used as nodes while the driving time between nodes can be used as the edge weight. This graph can even be manipulated in real time to represent traffic delays so that the _shortest path_ changes."
   ]
  },
  {
   "cell_type": "markdown",
   "metadata": {},
   "source": [
    "## Shortest Pathfinding Algorithms\n",
    "\n",
    "Now we know what a _Shortest Path Problem_ is and we already learned about an algorithm, _BFS_, that is guaranteed to find the shortest path. So we are done right? Let's go home!\n",
    "\n",
    "Sadly, _BFS_ has some pretty big issues when it comes to _pathfinding_.\n",
    "\n",
    "* It _only_ works on non-weighted graphs. This means it will never be able to take into account things like distance between towns when mapping out directions\n",
    "* It has to search every branch it comes across before it can decide on a path. Imagine Google Maps spending time investigating roads that go in the wrong direction before it finds the correct path\n",
    "\n",
    "But there is hope! There are dozens of approaches that smarter folks than me have devised to solve these types of problems. We are going to look at just two of them in this module.\n",
    "\n",
    "1. _Dijkstra's Algorithm_\n",
    "2. _A* Algorithm_"
   ]
  },
  {
   "cell_type": "markdown",
   "metadata": {},
   "source": [
    "### Dijkstra's Algorithm\n",
    "\n",
    "As I am sure you guessed, _Dijkstra's Algorithm_ was invented by a gentleman named Edsger Dijkstra in 1956. He claims to have invented it at a café in Amsterdam in the span of 20 minutes.\n",
    "\n",
    "The basic algorithm is:\n",
    "\n",
    "1. Add the source node to a priority queue with a priority of 0\n",
    "2. Select the node from the queue with the highest priority\n",
    "3. Select the neighbor of the current node with the lowest cost to visit. To calculate this, add the cost to reach the current node from the source vertex to the cost of traveling to the neighbor\n",
    "4. If this total cost is less than the known cost to reach each neighbor node, update the cost and add the neighbor to the queue with a priority of the new cost\n",
    "5. Repeat steps 2-4 until you find the target node\n",
    "\n",
    "These plain English steps can be formalized into the properly formatted algorithm below. Please note that the algorithm below has a data structure called _prev_ to help with building a path once the search is complete.\n",
    "\n",
    "```python\n",
    "def dijkstra(graph, source, target):\n",
    "    create empty Priority Queue Q\n",
    "    Put source into Q with priority 0\n",
    "    for each vertex v in graph:\n",
    "        cur_costs[v] <- INF\n",
    "        prev[v] <- NULL\n",
    "    while Q is not empty:\n",
    "            current <- get highest priority vertex\n",
    "            if current == target:\n",
    "                break\n",
    "            for each neighbor n of current:\n",
    "                new_cost <- cur_costs[current] + graph.costs[n]\n",
    "                if new_cost < cur_costs[n]:\n",
    "                    cur_costs[n] <- new_cost\n",
    "                    add n to Q with priority new_cost\n",
    "                    prev[n] <- current\n",
    "    return cur_costs, prev\n",
    "```\n",
    "\n",
    "Armed with this information I believe we are ready to try our hand at implementing Dijkstra's Algorithm on a some small maps similar to our castle example."
   ]
  },
  {
   "cell_type": "markdown",
   "metadata": {},
   "source": [
    "#### Let's Do This!\n",
    "For the remainder of this module we are going to use graphs that are represented by grids. This will help us visualize _pathfinding_ a bit easier. It also makes the code more straightforward. We will be storing these maps in 2D Python lists that store different terrain types as _chars_. Below you will find a sample map along with a visual representation to make it easier to see what is going on.\n",
    "\n",
    "```python\n",
    "'''\n",
    "s = source\n",
    "t = target\n",
    "g = grass\n",
    "f = forest\n",
    "h = hill\n",
    "m = mountain\n",
    "w = wall\n",
    "'''\n",
    "\n",
    "map_1 = [['s','g','g','f','f','g','g','f'],\n",
    "         ['g','g','f','h','h','f','g','g'],\n",
    "         ['f','f','h','m','h','f','h','g'],\n",
    "         ['f','h','m','h','f','h','m','h'],\n",
    "         ['f','h','h','f','g','g','h','m'],\n",
    "         ['f','f','f','g','g','g','g','h'],\n",
    "         ['g','g','g','g','h','g','g','g'],\n",
    "         ['g','m','m','m','m','h','g','t']]\n",
    "\n",
    "terrain_costs = {'g':1, 'f':2, 'h':3, 'm':6, 'w':float('inf')}\n",
    "\n",
    "``` \n",
    "<img src=\"./images/small_map3.png\" align=\"left\"/>\n",
    "<div style=\"clear: both;\"></div>\n",
    "\n",
    "So now that we have a way to represent our graphs as a map we need a way to convert this into something usable by our algorithm. So let's make a Graph _class_! What does this class need to do?\n",
    "\n",
    "1. Parse map of chars into the cost of moving into teach type of terrain\n",
    "2. Know map specifics such as height, width, source, and target\n",
    "3. Provide access to this information\n",
    "\n",
    "We will first design our map parser. It will take in a 2D Python list like the one above and convert all those _chars_ into costs of movement. It will also identify which grid squares are the source and target.\n",
    "\n",
    "```python\n",
    "# Accepts a map of chars as grid\n",
    "def parse_map(self, grid):\n",
    "        # Save dimensions\n",
    "        self.height = len(grid)\n",
    "        self.width = len(grid[0])\n",
    "        \n",
    "        # Set source and target in case the map doesn't specify\n",
    "        self.source = [0,0]\n",
    "        self.target = [len(grid)-1, len(grid[0])-1]\n",
    "    \n",
    "        # Build an array of same dimensions to store costs of movement (default 1)\n",
    "        self.costs = [[1 for col in range(len(grid[row]))] for row in range(len(grid))]\n",
    "    \n",
    "        # Iterate over map of chars\n",
    "        for row in range(len(self.costs)):\n",
    "            for col in range(len(self.costs[0])):\n",
    "                # Found the source!\n",
    "                if grid[row][col] == 's':\n",
    "                    self.source = [row,col]\n",
    "                # Found the target!\n",
    "                elif grid[row][col] =='t':\n",
    "                    self.target = [row,col]\n",
    "                # Look up the cost for terrain type and assign to costs grid\n",
    "                else:\n",
    "                    self.costs[row][col] = self.terrain_costs[grid[row][col]]\n",
    "```\n",
    "\n",
    "The rest of the functionality is straightforward so see the complete _Graph_ class below."
   ]
  },
  {
   "cell_type": "code",
   "execution_count": 4,
   "metadata": {
    "collapsed": true
   },
   "outputs": [],
   "source": [
    "class Graph:\n",
    "        \n",
    "    def __init__(self, grid, terrain_costs={'g':1, 'f':2, 'h':3, 'm':6, 'w':float('inf')}):\n",
    "        self.map = grid\n",
    "        self.terrain_costs = terrain_costs\n",
    "        self.parse_map(grid)\n",
    "        \n",
    "    # Accepts a map of chars as grid\n",
    "    def parse_map(self, grid):\n",
    "        # Save dimensions\n",
    "        self.height = len(grid)\n",
    "        self.width = len(grid[0])\n",
    "        \n",
    "        # Set source and target in case the map doesn't specify\n",
    "        self.source = [0,0]\n",
    "        self.target = [len(grid)-1, len(grid[0])-1]\n",
    "    \n",
    "        # Build an array of same dimensions to store costs of movement (default 1)\n",
    "        self.costs = [[1 for col in range(len(grid[row]))] for row in range(len(grid))]\n",
    "    \n",
    "        # Iterate over map of chars\n",
    "        for row in range(len(self.costs)):\n",
    "            for col in range(len(self.costs[0])):\n",
    "                # Found the source!\n",
    "                if grid[row][col] == 's':\n",
    "                    self.source = [row,col]\n",
    "                # Found the target!\n",
    "                elif grid[row][col] =='t':\n",
    "                    self.target = [row,col]\n",
    "                # Look up the cost for terrain type and assign to costs grid\n",
    "                else:\n",
    "                    self.costs[row][col] = self.terrain_costs[grid[row][col]]\n",
    "    \n",
    "    # Returns true if the passed loc is within the grid\n",
    "    def in_bounds(self, loc):\n",
    "        row, col = loc\n",
    "        return 0 <= row < self.height and 0 <= col < self.width\n",
    "    \n",
    "    # Returns the cost of moving into the gridsquare loc\n",
    "    def cost(self, loc):\n",
    "        row, col = loc\n",
    "        return self.costs[row][col]"
   ]
  },
  {
   "cell_type": "markdown",
   "metadata": {},
   "source": [
    "#### Priority Queue\n",
    "Now that we can represent our map as a graph, we need to have a way for _Dijkstra's_ algorithm to keep track of our ever expanding list of nodes that need processing. For this we need a _Priority Queue_. While there are ready-made classes available we don't need all those features and they are easy to implement. For our purposes the _Priority Queue_ needs the following features:\n",
    "\n",
    "1. Store all the elements\n",
    "2. Add elements to queue\n",
    "3. Sort elements so the item with the highest priority is at the front\n",
    "4. Remove the first item and return it\n",
    "\n",
    "For our implementation we will use a simple List which we will call *Q* (get it?). When adding elements to the queue we will simply append them to the list. To ensure that the highest priority element (lowest cost to visit) is at the front we will use the built in list _sort()_ function. This sorts from lowest cost to highest cost so when using retrieving the highest priority (lowest cost) element we need to use _pop(0)_. The _empty()_ function will just check the length of the queue.\n",
    "\n",
    "Please see the full class below."
   ]
  },
  {
   "cell_type": "code",
   "execution_count": 5,
   "metadata": {
    "collapsed": true
   },
   "outputs": [],
   "source": [
    "class Priority_Queue():\n",
    "    \n",
    "    # Declare list to use for the queue\n",
    "    def __init__(self):\n",
    "        self.Q = []\n",
    "    \n",
    "    # Add item to queue and sort by priority\n",
    "    def put(self, item):\n",
    "        self.Q.append(item)\n",
    "        self.Q.sort()\n",
    "    \n",
    "    # Pop off the front of the queue and return item\n",
    "    def get(self):\n",
    "        if not self.empty():\n",
    "            item = self.Q.pop(0)\n",
    "            return item\n",
    "        else:\n",
    "            return None\n",
    "    # Returns true if the queue is empty\n",
    "    def empty(self):\n",
    "        return len(self.Q) == 0"
   ]
  },
  {
   "cell_type": "markdown",
   "metadata": {},
   "source": [
    "#### Now for Some Utility Code\n",
    "\n",
    "The code below will be required when we finally implement our search algorithms. The first part consists of our map data. This is followed by two lists _directions_, which will help us quickly find the neighbors for each grid square, and <i>direction_symbols</i>, which will be used for visualizing the path once we found it. Finally, we have <i>print_grid</i> which makes it easy to display any sort of 2D list, whether it is a map, cost grid, or even the final path."
   ]
  },
  {
   "cell_type": "code",
   "execution_count": 6,
   "metadata": {
    "collapsed": true
   },
   "outputs": [],
   "source": [
    "terrain_costs = {'g':1, 'f':2, 'h':3, 'm':6, 'w':float('inf')}\n",
    "\n",
    "map_1 = [['s','g','g','g','g','g','g','g'],\n",
    "         ['g','g','g','g','g','g','g','g'],\n",
    "         ['g','g','g','g','g','g','g','g'],\n",
    "         ['g','g','g','g','g','g','g','g'],\n",
    "         ['g','g','g','g','g','g','g','g'],\n",
    "         ['g','g','g','g','g','g','g','g'],\n",
    "         ['g','g','g','g','g','g','g','g'],\n",
    "         ['g','g','g','g','g','g','g','t']]\n",
    "\n",
    "map_2 = [['s','g','g','g','w','g','g','g'],\n",
    "         ['g','g','g','g','w','g','g','g'],\n",
    "         ['g','g','g','g','w','g','g','g'],\n",
    "         ['g','g','g','g','w','g','g','g'],\n",
    "         ['g','w','w','w','w','g','g','g'],\n",
    "         ['g','g','g','g','g','g','g','g'],\n",
    "         ['g','g','g','g','g','g','g','g'],\n",
    "         ['g','g','g','g','g','g','g','t']]\n",
    "\n",
    "map_3 = [['s','g','g','f','f','g','g','f'],\n",
    "         ['g','g','f','h','h','f','g','g'],\n",
    "         ['f','f','h','m','h','f','h','g'],\n",
    "         ['f','h','m','h','f','h','m','h'],\n",
    "         ['f','h','h','f','g','g','h','m'],\n",
    "         ['f','f','f','g','g','g','g','h'],\n",
    "         ['g','g','g','g','h','g','g','g'],\n",
    "         ['g','m','m','m','m','h','g','t']]\n",
    "\n",
    "map_4 = [['s','g','g','f','f','g','g','f'],\n",
    "         ['g','g','f','h','h','f','g','g'],\n",
    "         ['f','f','h','m','h','f','h','g'],\n",
    "         ['f','h','m','h','f','h','m','h'],\n",
    "         ['f','h','h','f','g','f','h','m'],\n",
    "         ['f','f','f','g','g','g','g','h'],\n",
    "         ['g','g','g','g','h','g','g','g'],\n",
    "         ['g','m','m','m','m','h','g','t']]\n",
    "\n",
    "map_5 = [['s','g','g','g','g','g','g','t'],\n",
    "         ['g','g','g','g','g','g','g','g'],\n",
    "         ['g','g','g','g','g','g','g','g'],\n",
    "         ['g','g','g','g','g','g','g','g'],\n",
    "         ['g','g','g','g','g','g','g','g'],\n",
    "         ['g','g','g','g','g','g','g','g'],\n",
    "         ['g','g','g','g','g','g','g','g'],\n",
    "         ['g','g','g','g','g','g','g','g']]\n",
    "\n",
    "maps = [map_1, map_2, map_3, map_4, map_5]\n",
    "map_files = ['small_map1.png', 'small_map2.png',\n",
    "             'small_map3.png', 'small_map4.png',\n",
    "             'small_map5.png']\n",
    "\n",
    "directions = [[-1, 0 ], # Up\n",
    "             [ 0, -1],  # Left\n",
    "             [ 1, 0 ],  # Down\n",
    "             [ 0, 1 ]]  # Right\n",
    "\n",
    "direction_symbols = [\"^\", # Up \n",
    "                     \"<\", # Left\n",
    "                     \"V\", # Down\n",
    "                     \">\"] # Right\n",
    "\n",
    "def print_grid(name, grid):\n",
    "    print(name + \": \")\n",
    "    for row in grid:\n",
    "        print(row)\n",
    "    print()"
   ]
  },
  {
   "cell_type": "markdown",
   "metadata": {},
   "source": [
    "#### Writing Dijkstra's Algorithm\n",
    "\n",
    "We are now ready to write our Python implementation of _Dijkstra_! We are going to take the formal algorithm declaration and convert it line by line into code. Please watch the video below and follow along."
   ]
  },
  {
   "cell_type": "code",
   "execution_count": 7,
   "metadata": {},
   "outputs": [
    {
     "data": {
      "image/jpeg": "[encoded data removed]",
      "text/html": [
       "\n",
       "        <iframe\n",
       "            width=\"400\"\n",
       "            height=\"300\"\n",
       "            src=\"https://www.youtube.com/embed/oZlcg2xjhLs\"\n",
       "            frameborder=\"0\"\n",
       "            allowfullscreen\n",
       "        ></iframe>\n",
       "        "
      ],
      "text/plain": [
       "<IPython.lib.display.YouTubeVideo at 0x60cf908>"
      ]
     },
     "execution_count": 7,
     "metadata": {},
     "output_type": "execute_result"
    }
   ],
   "source": [
    "from IPython.display import YouTubeVideo\n",
    "YouTubeVideo('oZlcg2xjhLs')"
   ]
  },
  {
   "cell_type": "code",
   "execution_count": 8,
   "metadata": {
    "collapsed": true
   },
   "outputs": [],
   "source": [
    "def dijkstra(graph):\n",
    "    # Initialize Priority Queue with source\n",
    "    Q = Priority_Queue()\n",
    "    Q.put([0, graph.source])\n",
    "    \n",
    "    # Start all costs at infinity to indicate unvisted nodes\n",
    "    # The cost to reach the source is set to 0\n",
    "    cur_costs = [[float('inf') for col in range(graph.width)] for row in range(graph.height)]\n",
    "    cur_costs[graph.source[0]][graph.source[1]] = 0\n",
    "    \n",
    "    # Fill prev grid with blanks so the eventual path will stand out\n",
    "    prev = [[' ' for col in range(graph.width)] for row in range(graph.height)]\n",
    "    \n",
    "    # Keep track of the number of loops\n",
    "    steps = 0\n",
    "    \n",
    "    # Continue while there are still nodes in the queue\n",
    "    while not Q.empty():\n",
    "        \n",
    "        # Keep track of the number of times through the loop\n",
    "        steps += 1\n",
    "        \n",
    "        # Get the closest node\n",
    "        closest = Q.get()\n",
    "        current = closest[1]\n",
    "        \n",
    "        # End search when reaching target\n",
    "        if current == graph.target:\n",
    "            return cur_costs, prev, steps\n",
    "\n",
    "        # Loop through all the neighbors of the current node\n",
    "        for i in range(len(directions)):\n",
    "            n_row = current[0] + directions[i][0]\n",
    "            n_col = current[1] + directions[i][1]\n",
    "            \n",
    "            # Verify the neighbor is INSIDE the grid\n",
    "            if graph.in_bounds([n_row, n_col]):\n",
    "                \n",
    "                # Calculate the cost of visiting neighbor\n",
    "                new_cost = cur_costs[current[0]][current[1]] + graph.cost([n_row, n_col])\n",
    "                \n",
    "                # If this new cost is less than what the neighbor already has stored update and add to queue\n",
    "                if new_cost < cur_costs[n_row][n_col]:\n",
    "                    cur_costs[n_row][n_col] = new_cost\n",
    "                    Q.put([new_cost, [n_row, n_col]])\n",
    "                    \n",
    "                    # Store direction needed to get to the neighbor\n",
    "                    prev[n_row][n_col] = i\n",
    "                    \n",
    "    return cur_costs, prev, steps"
   ]
  },
  {
   "cell_type": "markdown",
   "metadata": {},
   "source": [
    "#### One Last Thing!\n",
    "So we now have a complete search algorithm! The last step is to visualize the path from the _source_ to the _target_. We will need one more function <i>build_path</i>. Remember that in the search algorithm we produced a 2D list called _prev_ in which we stored the direction that was used to move into each grid square. \n",
    "\n",
    "Our function, <i>build_path</i>, starts at the _target_ and works backwards, updating the _path_ grid with the symbols corresponding to the the stored directions in _prev_. It does this until it reaches the _source_ node.\n",
    "\n",
    "See the full <i>build_path</i> function below."
   ]
  },
  {
   "cell_type": "code",
   "execution_count": 9,
   "metadata": {
    "collapsed": true
   },
   "outputs": [],
   "source": [
    "# Builds path by working backwards from target\n",
    "def build_path(prev, source, target):\n",
    "    # Create a 2D list of the same size as the map\n",
    "    path = [[' ' for col in range(len(prev[row]))] for row in range(len(prev))]\n",
    "    \n",
    "    # Get target node\n",
    "    row, col = target\n",
    "    \n",
    "    # Designate the target node in the path grid\n",
    "    path[row][col] = '*'\n",
    "    \n",
    "    # Continue until reaching the source node\n",
    "    while [row, col] != source:\n",
    "        # Apply the stored movement direction to the current node to find next node\n",
    "        new_row = row - directions[prev[row][col]][0]\n",
    "        new_col = col - directions[prev[row][col]][1]\n",
    "        # Insert the corresponding direction symbol to the next node\n",
    "        path[new_row][new_col] = direction_symbols[prev[row][col]]\n",
    "        # Update the current node\n",
    "        row = new_row\n",
    "        col = new_col\n",
    "    return path"
   ]
  },
  {
   "cell_type": "markdown",
   "metadata": {},
   "source": [
    "#### Energize!\n",
    "Let's go down our pre-flight checklist.\n",
    "\n",
    "* Graph class (**CHECK**)\n",
    "* Priority Queue class (**CHECK**)\n",
    "* Dijkstra Search function (**CHECK**)\n",
    "\n",
    "We are finally ready to run our search and see some _pathfinding_! Run the code snippet below for your very first look at _Dijkstra's Algorithm_ in action!"
   ]
  },
  {
   "cell_type": "code",
   "execution_count": 10,
   "metadata": {},
   "outputs": [
    {
     "name": "stdout",
     "output_type": "stream",
     "text": [
      "Number of steps: 64\n",
      "\n",
      "Path: \n",
      "['>', '>', '>', '>', '>', '>', '>', 'V']\n",
      "[' ', ' ', ' ', ' ', ' ', ' ', ' ', 'V']\n",
      "[' ', ' ', ' ', ' ', ' ', ' ', ' ', 'V']\n",
      "[' ', ' ', ' ', ' ', ' ', ' ', ' ', 'V']\n",
      "[' ', ' ', ' ', ' ', ' ', ' ', ' ', 'V']\n",
      "[' ', ' ', ' ', ' ', ' ', ' ', ' ', 'V']\n",
      "[' ', ' ', ' ', ' ', ' ', ' ', ' ', 'V']\n",
      "[' ', ' ', ' ', ' ', ' ', ' ', ' ', '*']\n",
      "\n"
     ]
    },
    {
     "data": {
      "image/png": "[encoded data removed]",
      "text/plain": [
       "<IPython.core.display.Image object>"
      ]
     },
     "metadata": {},
     "output_type": "display_data"
    }
   ],
   "source": [
    "def run_dijkstra(map_select=1, show_path=True, show_image=True, show_cost=False):\n",
    "    graph = Graph(maps[map_select - 1])\n",
    "    costs, prev, steps = dijkstra(graph)\n",
    "    print(\"Number of steps: \" + str(steps))\n",
    "    print()\n",
    "    if show_cost:\n",
    "        print_grid(\"Costs:\", costs)\n",
    "    path = build_path(prev, graph.source, graph.target)\n",
    "    if show_path:\n",
    "        print_grid(\"Path\", path)\n",
    "    if show_image:\n",
    "        display(Image(filename='./images/' + map_files[map_select-1]))\n",
    "        \n",
    "run_dijkstra()"
   ]
  },
  {
   "cell_type": "markdown",
   "metadata": {},
   "source": [
    "Isn't it beautiful? _Diskstra_ was able to find a path from the town to the treasure chest! And it only took 64 steps through the loop to do it!\n",
    "\n",
    "Wait...our grid is 8x8, which means it had to visit every node in our graph! That seems very inefficient! Why do you suppose it had to visit every location before finding the optimal path?\n",
    "\n",
    "Run the next snippet of code to examine the cost to reach each node and see if you can noodle out the answer."
   ]
  },
  {
   "cell_type": "code",
   "execution_count": 11,
   "metadata": {},
   "outputs": [
    {
     "name": "stdout",
     "output_type": "stream",
     "text": [
      "Number of steps: 64\n",
      "\n",
      "Costs:: \n",
      "[0, 1, 2, 3, 4, 5, 6, 7]\n",
      "[1, 2, 3, 4, 5, 6, 7, 8]\n",
      "[2, 3, 4, 5, 6, 7, 8, 9]\n",
      "[3, 4, 5, 6, 7, 8, 9, 10]\n",
      "[4, 5, 6, 7, 8, 9, 10, 11]\n",
      "[5, 6, 7, 8, 9, 10, 11, 12]\n",
      "[6, 7, 8, 9, 10, 11, 12, 13]\n",
      "[7, 8, 9, 10, 11, 12, 13, 14]\n",
      "\n",
      "Path: \n",
      "['>', '>', '>', '>', '>', '>', '>', 'V']\n",
      "[' ', ' ', ' ', ' ', ' ', ' ', ' ', 'V']\n",
      "[' ', ' ', ' ', ' ', ' ', ' ', ' ', 'V']\n",
      "[' ', ' ', ' ', ' ', ' ', ' ', ' ', 'V']\n",
      "[' ', ' ', ' ', ' ', ' ', ' ', ' ', 'V']\n",
      "[' ', ' ', ' ', ' ', ' ', ' ', ' ', 'V']\n",
      "[' ', ' ', ' ', ' ', ' ', ' ', ' ', 'V']\n",
      "[' ', ' ', ' ', ' ', ' ', ' ', ' ', '*']\n",
      "\n"
     ]
    },
    {
     "data": {
      "image/png": "[encoded data removed]",
      "text/plain": [
       "<IPython.core.display.Image object>"
      ]
     },
     "metadata": {},
     "output_type": "display_data"
    }
   ],
   "source": [
    "run_dijkstra(show_cost=True)"
   ]
  },
  {
   "cell_type": "markdown",
   "metadata": {},
   "source": [
    "The answer is that _Dijkstra_ behaves the same way as _BFS_ when the graph weights are all equal. Therefore when our map is all grass, _Dijkstra_ expands out to all the closest nodes first before moving forward. This is why the cost grid shows bands of the same value from the _source_ to the _target_.\n",
    "\n",
    "So what if we add weights? Let's run the same algorithm against the two new maps shown below. Please note the difference between the two maps indicated by the red box.\n",
    "\n",
    "|Map 3 | Map 4|\n",
    "|------|------|\n",
    "|![Small map 3](./images/small_map3.png) | ![Small map 4](./images/small_map4.png)|\n",
    "\n",
    "Before running the code snippet below, hypothesis about what will happen. Will the number of steps be the same? What do _you_ think will be the path for each just by visually looking at the maps?\n",
    "\n",
    "You can switch back and forth between the maps using the dropdown and pick which grids you wish to see with the checkmarks."
   ]
  },
  {
   "cell_type": "code",
   "execution_count": 12,
   "metadata": {},
   "outputs": [
    {
     "data": {
      "application/vnd.jupyter.widget-view+json": {
       "model_id": "8b1863e4daa1447f84fb70db31cfba43",
       "version_major": 2,
       "version_minor": 0
      },
      "text/plain": [
       "interactive(children=(Dropdown(description=u'map_select', options=(3, 4), value=3), Checkbox(value=True, descrâ€¦"
      ]
     },
     "metadata": {},
     "output_type": "display_data"
    },
    {
     "data": {
      "text/plain": [
       "<function __main__.run_dijkstra>"
      ]
     },
     "execution_count": 12,
     "metadata": {},
     "output_type": "execute_result"
    }
   ],
   "source": [
    "interact(run_dijkstra, map_select=[3,4], show_cost=False, show_path=True, show_image=True)"
   ]
  },
  {
   "cell_type": "markdown",
   "metadata": {},
   "source": [
    "It's OK if you thought it would take _much_ fewer than 64 steps; that was my guess too! I can you hear you saying, \"But isn't _Dijkstra_ supposed to be _much_ better than _BFS_?\" \n",
    "\n",
    "1. Remember _BFS_ **cannot** be used with weighted graphs\n",
    "2. The cost for passing through each type of terrain (Mountains are 6) isn't high enough to discourage exploring most of the map\n",
    "\n",
    "What about your prediction for how adding a forest would change the path? Did you correctly predict that it would push the path South _then_ East? Why does this happen?\n",
    "\n",
    "1. The path for _Map 3_ passes through 4 forests and 1 hill and the rest is grass. If you exclude grass, the path cost is 4 * 2 + 1 * 3 = 11\n",
    "2. Placing the new forest adds an additional cost of 2 for a total of 13\n",
    "3. The path for _Map 4_ instead chooses to go through 6 forests and the rest grass. This puts the path cost at 6 * 2 = 12, which is _shorter_ than 13!\n",
    "\n",
    "So I feel like I have let you down with how great _Dijkstra_ truly is. Up until this point I have shown a fairly mediocre search algorithm that still often requires exploring much of the map.\n",
    "\n",
    "So we are going to do ONE more map and this time I **promise** that _Dijkstra_ will prove its worth! Let's have a look.\n",
    "\n",
    "![Small Map 2](./images/small_map2.png)\n",
    "\n",
    "Considering that I have given my word that this map will demonstrate _Dijkstra's_ potential, what makes _this_ map so different? Why does _this_ map not require exploring most of the map?"
   ]
  },
  {
   "cell_type": "code",
   "execution_count": 13,
   "metadata": {},
   "outputs": [
    {
     "data": {
      "application/vnd.jupyter.widget-view+json": {
       "model_id": "be23ab9a8d0e4a59b8a4a7b7e90e08d3",
       "version_major": 2,
       "version_minor": 0
      },
      "text/plain": [
       "interactive(children=(Checkbox(value=True, description=u'show_path'), Checkbox(value=True, description=u'show_â€¦"
      ]
     },
     "metadata": {},
     "output_type": "display_data"
    },
    {
     "data": {
      "text/plain": [
       "<function __main__.run_dijkstra>"
      ]
     },
     "execution_count": 13,
     "metadata": {},
     "output_type": "execute_result"
    }
   ],
   "source": [
    "interact(run_dijkstra, map_select=fixed(2), show_cost=False, show_path=True, show_image=True)"
   ]
  },
  {
   "cell_type": "markdown",
   "metadata": {},
   "source": [
    "If you are still unsure as to why this map is perfect for _Dijkstra_, please examine the cost grid. What do you suppose those 'inf' mean? If you guessed they were nodes that were never explored you would be correct! \n",
    "\n",
    "Some of them are clearly the walls, but some of them are just never visited because the total cost from the _source_ was greater than the cost to move towards the _target_. This is indicated by the 15s being the last nodes explored, as the total cost to get to the _target_ was only 14.\n",
    "\n",
    "So that's it! You have fully implemented _Dijkstra's Algorithm_ and explored its limitations and advantages. Now we are going to finish the module by exploring a _smarter_ version of _Dijkstra_ called _A*_."
   ]
  },
  {
   "cell_type": "markdown",
   "metadata": {},
   "source": [
    "### A* Algorithm\n",
    "\n",
    "_A*_ was developed in conjunction with trying to teach a physical robot _pathfinding_: the Shakey project. The algorithm was originally published in 1968, so over a decade after _Dijkstra_. What made it unique at the time was applying something called a _heuristic_ to help the search make better decisions when choosing which nodes to expand to next.\n",
    "\n",
    "In many ways it is an extension of _Dijkstra's Algorithm_ and for our purposes requires very few changes to our existing implementation, so YAY!\n",
    "\n",
    "#### What is a Heuristic?\n",
    "\n",
    "Imagine I gave you a task to get from Corvallis, OR to NYC, NY. It would be up to you to plan the driving route using only physical maps. How would you approach this problem? You probably would look at the map and find the biggest roads that headed East and start charting your route. \n",
    "\n",
    "Why wouldn't you look at roads that headed West? Obviously it is because you know that NYC is East of Corvallis and it makes most sense to look in that direction first.\n",
    "\n",
    "If you think about how _Dijkstra_ approaches the search, it has no concept of where it is ultimately trying to reach. It would explore both East and West as long as the edge weights were not drastically different: as seen in our look at _Map 3_ and _Map 4_ large step counts.\n",
    "\n",
    "This _estimation_ of distance/direction to your _target_ is called a _heuristic_. If we know where we are starting and where we are going, we can do many things to estimate the distance. We can calculate it _as the crow flies_ or use something called _Manhattan distance_ (which we will be using) or any other way that suites our needs.\n",
    "\n",
    "_A*_ uses this _heuristic_ to prioritize moving towards the goal over random exploring. So when deciding between two nodes with the same edge weight, _A*_ will choose the one _closer_ to the _target_."
   ]
  },
  {
   "cell_type": "markdown",
   "metadata": {},
   "source": [
    "#### Building a heuristic function\n",
    "\n",
    "As indicated above we will be using _Manhattan distance_ for our _heuristic_ function. The name comes from the fact that Manhattan is laid out in a grid and it is not possible to travel directly from Point A to Point B as you must follow the roads.\n",
    "\n",
    "![Manhattan Distance](./images/ManHattan_distance.svg)\n",
    "(Source Wikipedia - Taxicab Geometry)\n",
    "\n",
    "In this diagram, the green line represents the _as the crow flies_ AKA _Euclidean distance_ while the other colors are ALL _Manhattan distances_ of the same length.\n",
    "\n",
    "To calculate a _Manhattan distance_ one must simply add the absolute change in x to the absolute change in y. That's it!\n",
    "\n",
    "So without further ado, I present our _heuristic_ function!"
   ]
  },
  {
   "cell_type": "code",
   "execution_count": 14,
   "metadata": {
    "collapsed": true
   },
   "outputs": [],
   "source": [
    "def heuristic(a, b):\n",
    "    row_1, col_1 = a\n",
    "    row_2, col_2 = b\n",
    "    return abs(row_1 - row_2) + abs(col_1 - col_2)"
   ]
  },
  {
   "cell_type": "markdown",
   "metadata": {},
   "source": [
    "It takes in two points and returns the _Manhattan distance_. We will now use this to modify our _Dijkstra_ implementation.\n",
    "\n",
    "#### Adding Heuristics to Dijkstra's Algorithm\n",
    "\n",
    "_A*_ uses a _Priority Queue_ just like _Dijkstra_ when deciding which node to explore next. In _Dijkstra_, this priority is based purely on the cost to visit a given node based on the edge path from the _source_. \n",
    "\n",
    "In _A*_ the priority assigned to a given node in the _Priority Queue_ is a combination of the cost to visit _plus_ the distance from the _target_. In this way nodes that move away from the _target_ are penalized with a higher _cost_ in the queue, which lowers their priority.\n",
    "\n",
    "To convert our _Dijkstra_ implementation to _A*_ we must only add\n",
    "\n",
    "`heuristic(graph.target, [n_row, n_col])` \n",
    "\n",
    "to \n",
    "\n",
    "`Q.put([new_cost, [n_row, n_col]])`\n",
    "\n",
    "Resulting in:\n",
    "\n",
    "```python\n",
    "Q.put([new_cost + heuristic(graph.target, [n_row, n_col]), [n_row, n_col]])\n",
    "```\n",
    "\n",
    "Please see the new (really just one line) _A*_ implementation below."
   ]
  },
  {
   "cell_type": "code",
   "execution_count": 15,
   "metadata": {
    "collapsed": true
   },
   "outputs": [],
   "source": [
    "def a_star(graph):\n",
    "    # Initialize Priority Queue with source\n",
    "    Q = Priority_Queue()\n",
    "    Q.put([0, graph.source])\n",
    "    \n",
    "    # Start all costs at infinity to indicate unvisted nodes\n",
    "    # The cost to reach the source is set to 0\n",
    "    cur_costs = [[float('inf') for col in range(graph.width)] for row in range(graph.height)]\n",
    "    cur_costs[graph.source[0]][graph.source[1]] = 0\n",
    "    \n",
    "    # Fill prev grid with blanks so the eventual path will stand out\n",
    "    prev = [[' ' for col in range(graph.width)] for row in range(graph.height)]\n",
    "    \n",
    "    # Keep track of the number of loops\n",
    "    steps = 0\n",
    "    \n",
    "    # Continue while there are still nodes in the queue\n",
    "    while not Q.empty():\n",
    "        steps += 1\n",
    "        \n",
    "        # Get the closest node\n",
    "        closest = Q.get()\n",
    "        current = closest[1]\n",
    "        \n",
    "        # End search when reaching target\n",
    "        if current == graph.target:\n",
    "            return cur_costs, prev, steps\n",
    "\n",
    "        # Loop through all the neighbors of the current node\n",
    "        for i in range(len(directions)):\n",
    "            n_row = current[0] + directions[i][0]\n",
    "            n_col = current[1] + directions[i][1]\n",
    "            \n",
    "            # Verify the neighbor is INSIDE the grid\n",
    "            if graph.in_bounds([n_row, n_col]):\n",
    "                \n",
    "                # Calculate the cost of visiting neighbor\n",
    "                new_cost = cur_costs[current[0]][current[1]] + graph.cost([n_row, n_col])\n",
    "                \n",
    "                # If this new cost is less than what the neighbor already has stored update and add to queue\n",
    "                if new_cost < cur_costs[n_row][n_col]:\n",
    "                    cur_costs[n_row][n_col] = new_cost\n",
    "                    \n",
    "                    # THIS IS THE UPDATED LINE WITH HEURISTIC\n",
    "                    Q.put([new_cost + heuristic(graph.target, [n_row, n_col]), [n_row, n_col]])\n",
    "                    \n",
    "                    # Store direction needed to get to the neighbor\n",
    "                    prev[n_row][n_col] = i\n",
    "                    \n",
    "    return cur_costs, prev, steps"
   ]
  },
  {
   "cell_type": "markdown",
   "metadata": {},
   "source": [
    "#### Engergize! Again...\n",
    "\n",
    "We are now ready to run our very first _A*_ _pathfinding_ search! We are going to start with the same grassy map we did with _Dijkstra_. To refresh your memory the results took 64 steps (the max). \n",
    "\n",
    "How do you think the _heuristic_ function will effect the number of steps? Let's find out!"
   ]
  },
  {
   "cell_type": "code",
   "execution_count": 16,
   "metadata": {},
   "outputs": [
    {
     "name": "stdout",
     "output_type": "stream",
     "text": [
      "Number of steps: 64\n",
      "\n",
      "Costs:: \n",
      "[0, 1, 2, 3, 4, 5, 6, 7]\n",
      "[1, 2, 3, 4, 5, 6, 7, 8]\n",
      "[2, 3, 4, 5, 6, 7, 8, 9]\n",
      "[3, 4, 5, 6, 7, 8, 9, 10]\n",
      "[4, 5, 6, 7, 8, 9, 10, 11]\n",
      "[5, 6, 7, 8, 9, 10, 11, 12]\n",
      "[6, 7, 8, 9, 10, 11, 12, 13]\n",
      "[7, 8, 9, 10, 11, 12, 13, 14]\n",
      "\n",
      "Path: \n",
      "['>', '>', '>', '>', '>', '>', '>', 'V']\n",
      "[' ', ' ', ' ', ' ', ' ', ' ', ' ', 'V']\n",
      "[' ', ' ', ' ', ' ', ' ', ' ', ' ', 'V']\n",
      "[' ', ' ', ' ', ' ', ' ', ' ', ' ', 'V']\n",
      "[' ', ' ', ' ', ' ', ' ', ' ', ' ', 'V']\n",
      "[' ', ' ', ' ', ' ', ' ', ' ', ' ', 'V']\n",
      "[' ', ' ', ' ', ' ', ' ', ' ', ' ', 'V']\n",
      "[' ', ' ', ' ', ' ', ' ', ' ', ' ', '*']\n",
      "\n"
     ]
    },
    {
     "data": {
      "image/png": "[encoded data removed]",
      "text/plain": [
       "<IPython.core.display.Image object>"
      ]
     },
     "metadata": {},
     "output_type": "display_data"
    }
   ],
   "source": [
    "def run_a_star(map_select=1, show_path=True, show_image=True, show_cost=False):\n",
    "    graph = Graph(maps[map_select - 1])\n",
    "    costs, prev, steps = a_star(graph)\n",
    "    print(\"Number of steps: \" + str(steps))\n",
    "    print()\n",
    "    if show_cost:\n",
    "        print_grid(\"Costs:\", costs)\n",
    "    path = build_path(prev, graph.source, graph.target)\n",
    "    if show_path:\n",
    "        print_grid(\"Path\", path)\n",
    "    if show_image:\n",
    "        display(Image(filename='./images/' + map_files[map_select-1]))\n",
    "    \n",
    "run_a_star(show_cost=True)"
   ]
  },
  {
   "cell_type": "markdown",
   "metadata": {},
   "source": [
    "Well, that was disappointing to say the least. Isn't _A*_ supposed to be able to find a path in fewer steps? So what happened?\n",
    "\n",
    "To answer this question we need to examine the cost grid displayed above. What do you notice? It is exactly the same as with _Dijkstra_. \n",
    "\n",
    "The problem with this map is that the _target_ is the same _Manhattan distance_ from the _source_ no matter if you go East then South or South then East. Therefore  no path jumps out as being better in the absence of any obstacles.\n",
    "\n",
    "If we were to move the _target_ so there is a _shorter_ path, we can see how _A*_ outperforms _Dijkstra_.\n",
    "\n",
    "![Small Map 5](./images/small_map5.png)\n",
    "\n",
    "First, let's run _Dijkstra_"
   ]
  },
  {
   "cell_type": "code",
   "execution_count": 17,
   "metadata": {},
   "outputs": [
    {
     "name": "stdout",
     "output_type": "stream",
     "text": [
      "Number of steps: 29\n",
      "\n",
      "Costs:: \n",
      "[0, 1, 2, 3, 4, 5, 6, 7]\n",
      "[1, 2, 3, 4, 5, 6, 7, inf]\n",
      "[2, 3, 4, 5, 6, 7, inf, inf]\n",
      "[3, 4, 5, 6, 7, inf, inf, inf]\n",
      "[4, 5, 6, 7, inf, inf, inf, inf]\n",
      "[5, 6, 7, inf, inf, inf, inf, inf]\n",
      "[6, 7, inf, inf, inf, inf, inf, inf]\n",
      "[7, inf, inf, inf, inf, inf, inf, inf]\n",
      "\n",
      "Path: \n",
      "['>', '>', '>', '>', '>', '>', '>', '*']\n",
      "[' ', ' ', ' ', ' ', ' ', ' ', ' ', ' ']\n",
      "[' ', ' ', ' ', ' ', ' ', ' ', ' ', ' ']\n",
      "[' ', ' ', ' ', ' ', ' ', ' ', ' ', ' ']\n",
      "[' ', ' ', ' ', ' ', ' ', ' ', ' ', ' ']\n",
      "[' ', ' ', ' ', ' ', ' ', ' ', ' ', ' ']\n",
      "[' ', ' ', ' ', ' ', ' ', ' ', ' ', ' ']\n",
      "[' ', ' ', ' ', ' ', ' ', ' ', ' ', ' ']\n",
      "\n"
     ]
    },
    {
     "data": {
      "image/png": "[encoded data removed]",
      "text/plain": [
       "<IPython.core.display.Image object>"
      ]
     },
     "metadata": {},
     "output_type": "display_data"
    }
   ],
   "source": [
    "run_dijkstra(map_select=5, show_cost=True)"
   ]
  },
  {
   "cell_type": "markdown",
   "metadata": {},
   "source": [
    "Note that _Dijkstra_ is much improved (29 steps) compared to the original 64 steps required before moving the _target_. This is because that as the wave of expansion crosses the map, the _target_ is naturally encountered earlier.\n",
    "\n",
    "Now let's take a look at _A*_"
   ]
  },
  {
   "cell_type": "code",
   "execution_count": 18,
   "metadata": {},
   "outputs": [
    {
     "name": "stdout",
     "output_type": "stream",
     "text": [
      "Number of steps: 8\n",
      "\n",
      "Costs:: \n",
      "[0, 1, 2, 3, 4, 5, 6, 7]\n",
      "[1, 2, 3, 4, 5, 6, 7, inf]\n",
      "[inf, inf, inf, inf, inf, inf, inf, inf]\n",
      "[inf, inf, inf, inf, inf, inf, inf, inf]\n",
      "[inf, inf, inf, inf, inf, inf, inf, inf]\n",
      "[inf, inf, inf, inf, inf, inf, inf, inf]\n",
      "[inf, inf, inf, inf, inf, inf, inf, inf]\n",
      "[inf, inf, inf, inf, inf, inf, inf, inf]\n",
      "\n",
      "Path: \n",
      "['>', '>', '>', '>', '>', '>', '>', '*']\n",
      "[' ', ' ', ' ', ' ', ' ', ' ', ' ', ' ']\n",
      "[' ', ' ', ' ', ' ', ' ', ' ', ' ', ' ']\n",
      "[' ', ' ', ' ', ' ', ' ', ' ', ' ', ' ']\n",
      "[' ', ' ', ' ', ' ', ' ', ' ', ' ', ' ']\n",
      "[' ', ' ', ' ', ' ', ' ', ' ', ' ', ' ']\n",
      "[' ', ' ', ' ', ' ', ' ', ' ', ' ', ' ']\n",
      "[' ', ' ', ' ', ' ', ' ', ' ', ' ', ' ']\n",
      "\n"
     ]
    },
    {
     "data": {
      "image/png": "[encoded data removed]",
      "text/plain": [
       "<IPython.core.display.Image object>"
      ]
     },
     "metadata": {},
     "output_type": "display_data"
    }
   ],
   "source": [
    "run_a_star(map_select=5, show_cost=True)"
   ]
  },
  {
   "cell_type": "markdown",
   "metadata": {},
   "source": [
    "Huzzah! _A*_ has proven itself to be _smarter_ (only 8 steps) at finding a path than _Dijkstra_. Looking at the cost grid you should notice that moves very directly towards the _target_ and doesn't do much extra exploring.\n",
    "\n",
    "Now let us look at the other maps and compare _A*'s_ performance to _Dijkstra's_.\n",
    "\n",
    "First up are _Map 3_ and _Map 4_\n",
    "\n",
    "|Map 3 | Map 4|\n",
    "|------|------|\n",
    "|![Small map 3](./images/small_map3.png) | ![Small map 4](./images/small_map4.png)|\n",
    "\n",
    "_Dijkstra_ completed both of these maps in 63 steps. Now for _A*'s_ turn!"
   ]
  },
  {
   "cell_type": "code",
   "execution_count": 19,
   "metadata": {},
   "outputs": [
    {
     "data": {
      "application/vnd.jupyter.widget-view+json": {
       "model_id": "087b3c66fc4a4c1595feeb630017feb7",
       "version_major": 2,
       "version_minor": 0
      },
      "text/plain": [
       "interactive(children=(Dropdown(description=u'map_select', options=(3, 4), value=3), Checkbox(value=True, descrâ€¦"
      ]
     },
     "metadata": {},
     "output_type": "display_data"
    },
    {
     "data": {
      "text/plain": [
       "<function __main__.run_a_star>"
      ]
     },
     "execution_count": 19,
     "metadata": {},
     "output_type": "execute_result"
    }
   ],
   "source": [
    "interact(run_a_star, map_select=[3,4], show_path=True, show_image=True, show_cost=False)"
   ]
  },
  {
   "cell_type": "markdown",
   "metadata": {},
   "source": [
    "_A*_ was able to do the maps in 48 and 47 steps respectively! That is a sizable improvement for sure. Please note that the cost grid is mostly filled in. This does not mean _A*_ visited each node, but just ended up adding these to the _Priority Q_ for later visits that never happened because the _target_ was found before they were popped off. \n",
    "\n",
    "Now let's look at our last map, which contains the dead end; _Dijkstra_ found a path in 50 steps."
   ]
  },
  {
   "cell_type": "code",
   "execution_count": 20,
   "metadata": {},
   "outputs": [
    {
     "name": "stdout",
     "output_type": "stream",
     "text": [
      "Number of steps: 41\n",
      "\n",
      "Costs:: \n",
      "[0, 1, 2, 3, inf, inf, inf, inf]\n",
      "[1, 2, 3, 4, inf, inf, inf, inf]\n",
      "[2, 3, 4, 5, inf, inf, inf, inf]\n",
      "[3, 4, 5, 6, inf, inf, inf, inf]\n",
      "[4, inf, inf, inf, inf, 11, 12, 13]\n",
      "[5, 6, 7, 8, 9, 10, 11, 12]\n",
      "[6, 7, 8, 9, 10, 11, 12, 13]\n",
      "[7, 8, 9, 10, 11, 12, 13, 14]\n",
      "\n",
      "Path: \n",
      "['V', ' ', ' ', ' ', ' ', ' ', ' ', ' ']\n",
      "['V', ' ', ' ', ' ', ' ', ' ', ' ', ' ']\n",
      "['V', ' ', ' ', ' ', ' ', ' ', ' ', ' ']\n",
      "['V', ' ', ' ', ' ', ' ', ' ', ' ', ' ']\n",
      "['V', ' ', ' ', ' ', ' ', ' ', ' ', ' ']\n",
      "['>', '>', '>', '>', '>', '>', '>', 'V']\n",
      "[' ', ' ', ' ', ' ', ' ', ' ', ' ', 'V']\n",
      "[' ', ' ', ' ', ' ', ' ', ' ', ' ', '*']\n",
      "\n"
     ]
    },
    {
     "data": {
      "image/png": "[encoded data removed]",
      "text/plain": [
       "<IPython.core.display.Image object>"
      ]
     },
     "metadata": {},
     "output_type": "display_data"
    }
   ],
   "source": [
    "run_a_star(map_select=2, show_cost=True)"
   ]
  },
  {
   "cell_type": "markdown",
   "metadata": {},
   "source": [
    "Take that _Dijkstra_! _A*_ only needed 41 steps! Looking at the cost grid it once again demonstrates how _A*_ is less likely to wander away from the _target_ as it explores even less of the top right of the map than _Dijkstra_."
   ]
  },
  {
   "cell_type": "markdown",
   "metadata": {},
   "source": [
    "## Conclusion\n",
    "Whew! That was a lot to take in and you will likely need to review much of this notebook again. I have also provided a \"playground\" at the end where you will be free to experiment with changing maps, terrain weights, or even the heuristics.\n",
    "\n",
    "But before I set you loose to further experiment let's debrief.\n",
    "\n",
    "### What have we learned?\n",
    "\n",
    "* _Pathfinding_ is all around us\n",
    "\n",
    "There isn't a day that goes by that we don't utilize _pathfinding_ in our lives. When we drive a car or even make a phone call, _pathfinding_ is involved. It also usually revolves around trying to find the _shortest_ path.\n",
    "\n",
    "* Almost anything can be turned into a _graph_\n",
    "\n",
    "We discussed how road systems can be represented as _graphs_ using intersections as vertices and driving distance as edge weights. Try to think of your own and discuss on Piazza!\n",
    "\n",
    "* Given a _graph_, we can search through it with multiple algorithms\n",
    "\n",
    "We learned that _DFS_ and _BFS_ are two different approaches of searching _graphs_ without weights. We also learned that 20 minutes in a cafe in Amsterdam led to a breakthrough in _pathfinding_ algorithms. This algorithm was then later improved upon to produce _A*_ that makes the obvious decision to take into account the distance to the goal when searching.\n",
    "\n",
    "* How to implement both _Dijkstra's_ algorithm and _A*_\n",
    "\n",
    "We were able to break down how to turn these algorithms into functional code to solve simple grid based _pathfinding_. We did this by creating our own _Graph_ and _Priority Queue_ classes.\n",
    "\n",
    "### Where do we go from here?\n",
    "\n",
    "As I am sure you have come to realize, there is always more to learn. _Pathfinding_ didn't reach it's apex in 1968. Since then researchers have pushed for more sophisticated ways of _pathfinding_ that don't rely on a grid. \n",
    "\n",
    "One such approach has been popularized by Sebastian Thrun, who used something called SLAM (Simultaneous Localization And Mapping) to win the DARPA Grand Challenge for self-driving cars. It maps out the cars location in real time while also performing _pathfinding_ using algorithms similar to _A*_\n",
    "\n",
    "Here is a list of some good resources if you want to further your knowledge\n",
    "* [Udacity's free AI for Robotics coruse taught by Sebastian Thrun](https://www.udacity.com/course/artificial-intelligence-for-robotics--cs373)\n",
    "* [An academic paper on pathfinding in video games](https://www.researchgate.net/publication/267405818_Direction_Oriented_Pathfinding_In_Video_Games)\n",
    "* [A Wikipedia article about the Bellman-Ford algorithm that can be used on graphs with negative weights (something that Dijkstra cannot do)](https://en.wikipedia.org/wiki/Bellman%E2%80%93Ford_algorithm)"
   ]
  },
  {
   "cell_type": "markdown",
   "metadata": {},
   "source": [
    "## Now it's time for some fun!\n",
    "\n",
    "Below you will find two \"playgrounds.\" One for _Dijkstra_ and one for _A*_. Feel free to change anything below this point. If you discover you have broken something you can just rerun the code snippets in the main part of the notebook to undo any changes below.\n",
    "\n",
    "Things you should experiment with:\n",
    "\n",
    "* Change the cost for each terrain type in the _Graph_ class\n",
    "* Change the placement of the terrain and walls for any of the maps\n",
    "* Change how the _heuristic_ is calculated, such as Euclidean"
   ]
  },
  {
   "cell_type": "code",
   "execution_count": 21,
   "metadata": {
    "collapsed": true
   },
   "outputs": [],
   "source": [
    "# Change the cost for a the terrain\n",
    "terrain_costs = {'g':1, 'f':2, 'h':3, 'm':6, 'w':float('inf')}"
   ]
  },
  {
   "cell_type": "code",
   "execution_count": 22,
   "metadata": {
    "collapsed": true
   },
   "outputs": [],
   "source": [
    "# Try changing the layout of the maps to see how that effects things\n",
    "map_1 = [['s','g','g','g','g','g','g','g'],\n",
    "         ['g','g','g','g','g','g','g','g'],\n",
    "         ['g','g','g','g','g','g','g','g'],\n",
    "         ['g','g','g','g','g','g','g','g'],\n",
    "         ['g','g','g','g','g','g','g','g'],\n",
    "         ['g','g','g','g','g','g','g','g'],\n",
    "         ['g','g','g','g','g','g','g','g'],\n",
    "         ['g','g','g','g','g','g','g','t']]\n",
    "\n",
    "map_2 = [['s','g','g','g','w','g','g','g'],\n",
    "         ['g','g','g','g','w','g','g','g'],\n",
    "         ['g','g','g','g','w','g','g','g'],\n",
    "         ['g','g','g','g','w','g','g','g'],\n",
    "         ['g','w','w','w','w','g','g','g'],\n",
    "         ['g','g','g','g','g','g','g','g'],\n",
    "         ['g','g','g','g','g','g','g','g'],\n",
    "         ['g','g','g','g','g','g','g','t']]\n",
    "\n",
    "map_3 = [['s','g','g','f','f','g','g','f'],\n",
    "         ['g','g','f','h','h','f','g','g'],\n",
    "         ['f','f','h','m','h','f','h','g'],\n",
    "         ['f','h','m','h','f','h','m','h'],\n",
    "         ['f','h','h','f','g','g','h','m'],\n",
    "         ['f','f','f','g','g','g','g','h'],\n",
    "         ['g','g','g','g','h','g','g','g'],\n",
    "         ['g','m','m','m','m','h','g','t']]\n",
    "\n",
    "map_4 = [['s','g','g','f','f','g','g','f'],\n",
    "         ['g','g','f','h','h','f','g','g'],\n",
    "         ['f','f','h','m','h','f','h','g'],\n",
    "         ['f','h','m','h','f','h','m','h'],\n",
    "         ['f','h','h','f','g','f','h','m'],\n",
    "         ['f','f','f','g','g','g','g','h'],\n",
    "         ['g','g','g','g','h','g','g','g'],\n",
    "         ['g','m','m','m','m','h','g','t']]\n",
    "\n",
    "map_5 = [['s','g','g','g','g','g','g','t'],\n",
    "         ['g','g','g','g','g','g','g','g'],\n",
    "         ['g','g','g','g','g','g','g','g'],\n",
    "         ['g','g','g','g','g','g','g','g'],\n",
    "         ['g','g','g','g','g','g','g','g'],\n",
    "         ['g','g','g','g','g','g','g','g'],\n",
    "         ['g','g','g','g','g','g','g','g'],\n",
    "         ['g','g','g','g','g','g','g','g']]"
   ]
  },
  {
   "cell_type": "code",
   "execution_count": 23,
   "metadata": {
    "collapsed": true
   },
   "outputs": [],
   "source": [
    "# Try changing how this is calculated\n",
    "def heuristic(a, b):\n",
    "    row_1, col_1 = a\n",
    "    row_2, col_2 = b\n",
    "    return abs(row_1 - row_2) + abs(col_1 - col_2)"
   ]
  },
  {
   "cell_type": "markdown",
   "metadata": {},
   "source": [
    "## Dijkstra's Playground"
   ]
  },
  {
   "cell_type": "code",
   "execution_count": 24,
   "metadata": {},
   "outputs": [
    {
     "data": {
      "application/vnd.jupyter.widget-view+json": {
       "model_id": "5405019e698a424dbc63e52fdf332616",
       "version_major": 2,
       "version_minor": 0
      },
      "text/plain": [
       "interactive(children=(Dropdown(description=u'map_select', options=(1, 2, 3, 4, 5), value=1), Checkbox(value=Trâ€¦"
      ]
     },
     "metadata": {},
     "output_type": "display_data"
    },
    {
     "data": {
      "text/plain": [
       "<function __main__.run_dijkstra>"
      ]
     },
     "execution_count": 24,
     "metadata": {},
     "output_type": "execute_result"
    }
   ],
   "source": [
    "def run_dijkstra(map_select=1, show_path=True, show_image=True, show_cost=False):\n",
    "    graph = Graph(maps[map_select - 1], terrain_costs)\n",
    "    costs, prev, steps = dijkstra(graph)\n",
    "    print(\"Number of steps: \" + str(steps))\n",
    "    print()\n",
    "    if show_cost:\n",
    "        print_grid(\"Costs:\", costs)\n",
    "    path = build_path(prev, graph.source, graph.target)\n",
    "    if show_path:\n",
    "        print_grid(\"Path\", path)\n",
    "    if show_image:\n",
    "        display(Image(filename='./images/' + map_files[map_select-1]))\n",
    "\n",
    "interact(run_dijkstra, map_select=[1,2,3,4,5], show_path=True, show_image=True, show_cost=False)"
   ]
  },
  {
   "cell_type": "markdown",
   "metadata": {},
   "source": [
    "## A*'s Playground"
   ]
  },
  {
   "cell_type": "code",
   "execution_count": 25,
   "metadata": {},
   "outputs": [
    {
     "data": {
      "application/vnd.jupyter.widget-view+json": {
       "model_id": "22b94a6fc6984501af96c4dd2c9f7b48",
       "version_major": 2,
       "version_minor": 0
      },
      "text/plain": [
       "interactive(children=(Dropdown(description=u'map_select', options=(1, 2, 3, 4, 5), value=1), Checkbox(value=Trâ€¦"
      ]
     },
     "metadata": {},
     "output_type": "display_data"
    },
    {
     "data": {
      "text/plain": [
       "<function __main__.run_a_star>"
      ]
     },
     "execution_count": 25,
     "metadata": {},
     "output_type": "execute_result"
    }
   ],
   "source": [
    "def run_a_star(map_select=1, show_path=True, show_image=True, show_cost=False):\n",
    "    graph = Graph(maps[map_select - 1], terrain_costs)\n",
    "    costs, prev, steps = a_star(graph)\n",
    "    print(\"Number of steps: \" + str(steps))\n",
    "    print()\n",
    "    if show_cost:\n",
    "        print_grid(\"Costs:\", costs)\n",
    "    path = build_path(prev, graph.source, graph.target)\n",
    "    if show_path:\n",
    "        print_grid(\"Path\", path)\n",
    "    if show_image:\n",
    "        display(Image(filename='./images/' + map_files[map_select-1]))\n",
    "\n",
    "interact(run_a_star, map_select=[1,2,3,4,5], show_path=True, show_image=True, show_cost=False)"
   ]
  }
 ],
 "metadata": {
  "kernelspec": {
   "display_name": "Python 2",
   "language": "python",
   "name": "python2"
  },
  "language_info": {
   "codemirror_mode": {
    "name": "ipython",
    "version": 2
   },
   "file_extension": ".py",
   "mimetype": "text/x-python",
   "name": "python",
   "nbconvert_exporter": "python",
   "pygments_lexer": "ipython2",
   "version": "2.7.13"
  }
 },
 "nbformat": 4,
 "nbformat_minor": 2
}
