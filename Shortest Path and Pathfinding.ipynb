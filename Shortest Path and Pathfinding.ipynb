{
 "cells": [
  {
   "cell_type": "code",
   "execution_count": 1,
   "metadata": {},
   "outputs": [],
   "source": [
    "from __future__ import print_function\n",
    "from ipywidgets import interact, interactive, fixed, interact_manual\n",
    "import ipywidgets as widgets\n",
    "\n",
    "from IPython.display import display, Image"
   ]
  },
  {
   "cell_type": "markdown",
   "metadata": {},
   "source": [
    "# Introduction to Shortest Path and Pathfinding\n",
    "### Designed by Eric Ianni\n",
    "\n",
    "### Pre-requisits\n",
    "* Knowledge of how to use a Jupyter Notebook\n",
    "* Knowledge of basic Python and the use of multi-dimensional arrays\n",
    "* Knowledge of basic weighted graphs\n",
    "\n",
    "### Let's Paint a Picture!\n",
    "\n",
    "Imagine you are a playing a turn-based computer game where you have a limited number of movement points per turn. Your task is to start at the village inthe top left and make it to the chest in the castle as quickly as possible without moving diagnolly.\n",
    "\n",
    "![Castle image](./images/castle_map.png)\n",
    "\n",
    "To you, as a human, it is very easy to see that the only clear path is around the North of the castle, back down the East and across the bridges in the South.  You are able to process the entire map at once and quickly identify dead ends.\n",
    "\n",
    "To a computer this task isn't that easy. Computers are limited in how much of the \"big picture\" they can see and have to approach problems in single steps at a time. \n",
    "\n",
    "Now imagine you are told that it is possible to cross water tiles, but there is a movement penalty. All of a sudden the task isn't so easy as you have to consider if swimming the moat is faster than the long way. Still, you can probably figure out that crossing the one water tile to the South-West is probably the fastest route.\n",
    "\n",
    "Now imagine it is possible to climb the castle walls, but with a stiff movement penalty. Can you still confidently say for sure you know the fastest path without sitting down and doing the math for multiple different routes?\n",
    "\n",
    "In this latest scenario you find yourself approaching the problem how a computer  does!\n",
    "\n",
    "### Welcome to Pathfinding!\n",
    "\n",
    "In this module you will learn about how computers solve the _Shortest Path Problem_ by using different _Pathfinding_ algorithms. We will begin by examining real world problems that require a shortest path. Next, we will learn to frame those problems as graphs so we can apply different algorithms. Finally, we will examine these algorithms and how each approach the problem differently. \n",
    "\n",
    "### Learning Objectives\n",
    "\n",
    "* Define the _Shortest Path Problem_ and give examples\n",
    "* Describe _Depth First Search_ and _Breadth First Search_ while citing the differences and the required data structures\n",
    "* Describe Dijkstra's algorithm and implement\n",
    "* Describe the A* algorithm and implement"
   ]
  },
  {
   "cell_type": "markdown",
   "metadata": {
    "collapsed": true
   },
   "source": [
    "## What is Pathfinding?\n",
    "The simplest definition of _pathfinding_ is finding a route (_path_) between points *A* and *B*. We do this all the time everyday of our lives. When driving to the store we have to pick which streets to follow to get there. Even the simple act of crossing a room is an act of selecting a route, even more so if you have children leaving toys on the ground!\n",
    "\n",
    "While you or I use our eyes and intuition for many _pathfinding_ tasks, computers must rely on other approaches. Most computational _pathfinding_ makes heavy use of _graphy theory_. This involves defining the given situation as a _graph_: a series of nodes and edges. \n",
    "\n",
    "To demonstrate this process, let's imagine a bus-network between a few cities: New York City, Boston, Washington D.C., Columbus, and Chicago. To represent the network, we begin by designating each city a _vertex_ in the graph. We then create an _edge_ between vertices to mirror the bus-routes. Finally we can assign the number of miles between the cities as the edge _weights_.\n",
    "\n",
    "![City Graph](./images/city_graph.png)\n",
    "\n",
    "Now that we have learned how to frame a problem in a way for computers to understand, it is time to actually find a path.\n",
    "\n",
    "## Introducing Twiddle Dee and Twiddle Dumb\n",
    "\n",
    "The first two algorithms we are going to examine are _Depth First Search_ (DFS) and _Breadth First Search_ (BFS). These two methods are what I would call _dumb_ in that they are brute force approaches to the problem of _pathfinding_. \n",
    "\n",
    "They get their name from how they search through _tree graphs_. DFS searches down a single branch until it reaches a leaf before it backtracks. BFS, on the other hand, searches each child node before moving onto lower levels of the tree.  \n",
    "\n",
    "![DFS vs. BFS in Binary Trees](./images/binary_tree_search.png)(image borrowed from http://mishadoff.com/blog/dfs-on-binary-tree-array/)\n",
    "\n",
    "When not being used for _pathfinding_, DFS and BFS return a list of nodes in the order in which they were visited/searched. Given the binary-trees above:\n",
    "\n",
    "* DFS would return **[0,1,3,4,2,5,6]** \n",
    "* BFS would return **[0,1,2,3,4,5,6]**\n",
    "\n",
    "## Let's see these two in action!\n",
    "\n",
    "For this section we are going to be using the following graph.\n",
    "\n",
    "![DFS & BFS Graph](./images/dfs_bfs_graph.png)\n",
    "(Image borrowed from https://eddmann.com/posts/depth-first-search-and-breadth-first-search-in-python/)\n",
    "\n",
    "Below you will find two code snippets that implement DFS and BFS. You will be able to run these algorithms with different parameters to get a feel for how each search works. \n",
    "\n",
    "Begin by simply running the cells (ctrl-enter) and trying different values for the starting node and the goal node. Try the same values for start and goal for each algorithm. \n",
    "\n",
    "After you have experimented, try to answer the following questions:\n",
    "\n",
    "1. Why don't DFS and BFS come up with the same path?\n",
    "2. Why does BFS seem to be able to find shorter paths than DFS? (look at start: 'A' and goal: 'C')\n",
    "3. Pay attention to the number of steps required, why are they different?\n",
    "4. What does that mean for the value for each of these searches?\n",
    "\n",
    "Now go have fun!"
   ]
  },
  {
   "cell_type": "markdown",
   "metadata": {},
   "source": [
    "### Depth First Search Playground"
   ]
  },
  {
   "cell_type": "code",
   "execution_count": 7,
   "metadata": {},
   "outputs": [
    {
     "data": {
      "application/vnd.jupyter.widget-view+json": {
       "model_id": "e0785c26a5464e35be2aee6beb1109ff",
       "version_major": 2,
       "version_minor": 0
      },
      "text/html": [
       "<p>Failed to display Jupyter Widget of type <code>interactive</code>.</p>\n",
       "<p>\n",
       "  If you're reading this message in the Jupyter Notebook or JupyterLab Notebook, it may mean\n",
       "  that the widgets JavaScript is still loading. If this message persists, it\n",
       "  likely means that the widgets JavaScript library is either not installed or\n",
       "  not enabled. See the <a href=\"https://ipywidgets.readthedocs.io/en/stable/user_install.html\">Jupyter\n",
       "  Widgets Documentation</a> for setup instructions.\n",
       "</p>\n",
       "<p>\n",
       "  If you're reading this message in another frontend (for example, a static\n",
       "  rendering on GitHub or <a href=\"https://nbviewer.jupyter.org/\">NBViewer</a>),\n",
       "  it may mean that your frontend doesn't currently support widgets.\n",
       "</p>\n"
      ],
      "text/plain": [
       "interactive(children=(Dropdown(description=u'start', options=('A', 'B', 'C', 'D', 'E', 'F'), value='A'), Dropdown(description=u'goal', options=('A', 'B', 'C', 'D', 'E', 'F'), value='A'), Output()), _dom_classes=('widget-interact',))"
      ]
     },
     "metadata": {},
     "output_type": "display_data"
    },
    {
     "data": {
      "text/plain": [
       "<function __main__.run_dfs>"
      ]
     },
     "execution_count": 7,
     "metadata": {},
     "output_type": "execute_result"
    }
   ],
   "source": [
    "# Code modified from https://eddmann.com/posts/depth-first-search-and-breadth-first-search-in-python/\n",
    "\n",
    "graph = {'A': set(['B', 'C']),\n",
    "         'B': set(['A', 'D', 'E']),\n",
    "         'C': set(['A', 'F']),\n",
    "         'D': set(['B']),\n",
    "         'E': set(['B', 'F']),\n",
    "         'F': set(['C', 'E'])}\n",
    "            \n",
    "def dfs(graph, start, goal):\n",
    "    steps = 0\n",
    "    stack = [(start, [start])]\n",
    "    while stack:\n",
    "        steps += 1\n",
    "        (vertex, path) = stack.pop()\n",
    "        if vertex == goal:\n",
    "            return path, steps\n",
    "        for next in graph[vertex] - set(path):\n",
    "            stack.append((next, path + [next]))\n",
    "\n",
    "def run_dfs(start, goal):\n",
    "    path, steps = dfs(graph, start, goal)\n",
    "    print(\"Path: \" + str(path))\n",
    "    print(\"Steps: \" + str(steps))\n",
    "\n",
    "interact(run_dfs, start=['A','B','C','D','E','F'], goal=['A','B','C','D','E','F'])\n"
   ]
  },
  {
   "cell_type": "markdown",
   "metadata": {},
   "source": [
    "### Breath First Search Playground"
   ]
  },
  {
   "cell_type": "code",
   "execution_count": 6,
   "metadata": {},
   "outputs": [
    {
     "data": {
      "application/vnd.jupyter.widget-view+json": {
       "model_id": "b2cd8caf387149d0ae6b9712f041b73a",
       "version_major": 2,
       "version_minor": 0
      },
      "text/html": [
       "<p>Failed to display Jupyter Widget of type <code>interactive</code>.</p>\n",
       "<p>\n",
       "  If you're reading this message in the Jupyter Notebook or JupyterLab Notebook, it may mean\n",
       "  that the widgets JavaScript is still loading. If this message persists, it\n",
       "  likely means that the widgets JavaScript library is either not installed or\n",
       "  not enabled. See the <a href=\"https://ipywidgets.readthedocs.io/en/stable/user_install.html\">Jupyter\n",
       "  Widgets Documentation</a> for setup instructions.\n",
       "</p>\n",
       "<p>\n",
       "  If you're reading this message in another frontend (for example, a static\n",
       "  rendering on GitHub or <a href=\"https://nbviewer.jupyter.org/\">NBViewer</a>),\n",
       "  it may mean that your frontend doesn't currently support widgets.\n",
       "</p>\n"
      ],
      "text/plain": [
       "interactive(children=(Dropdown(description=u'start', options=('A', 'B', 'C', 'D', 'E', 'F'), value='A'), Dropdown(description=u'goal', options=('A', 'B', 'C', 'D', 'E', 'F'), value='A'), Output()), _dom_classes=('widget-interact',))"
      ]
     },
     "metadata": {},
     "output_type": "display_data"
    },
    {
     "data": {
      "text/plain": [
       "<function __main__.run_bfs>"
      ]
     },
     "execution_count": 6,
     "metadata": {},
     "output_type": "execute_result"
    }
   ],
   "source": [
    "# Code modified from https://eddmann.com/posts/depth-first-search-and-breadth-first-search-in-python/\n",
    "\n",
    "graph = {'A': set(['B', 'C']),\n",
    "         'B': set(['A', 'D', 'E']),\n",
    "         'C': set(['A', 'F']),\n",
    "         'D': set(['B']),\n",
    "         'E': set(['B', 'F']),\n",
    "         'F': set(['C', 'E'])}\n",
    "\n",
    "def bfs(graph, start, goal):\n",
    "    steps = 0\n",
    "    queue = [(start, [start])]\n",
    "    while queue:\n",
    "        steps += 1\n",
    "        (vertex, path) = queue.pop(0)\n",
    "        if vertex == goal:\n",
    "            return path, steps\n",
    "        for next in graph[vertex] - set(path):\n",
    "            queue.append((next, path + [next]))\n",
    "\n",
    "def run_bfs(start, goal):\n",
    "    path, steps = bfs(graph, start, goal)\n",
    "    print(\"Path: \" + str(path))\n",
    "    print(\"Steps: \" + str(steps))\n",
    "\n",
    "interact(run_bfs, start=['A','B','C','D','E','F'], goal=['A','B','C','D','E','F'])\n"
   ]
  },
  {
   "cell_type": "markdown",
   "metadata": {},
   "source": [
    "### Time to Debrief\n",
    "\n",
    "I hope you had fun experimenting with both searches. Did you have time to answer those questions?\n",
    "\n",
    "1. Why don't DFS and BFS come up with the same path?\n",
    "   * DFS rushes head long down a single path until it hits a dead end. BFS cautiously expands the search radius little by little\n",
    "2. Why does BFS seem to be able to find shorter paths than DFS? (look at start: 'A' and goal: 'C')\n",
    "   * BFS's cautious approach means if the goal node is close by, it doesn't run past it like DFS does\n",
    "3. Pay attention to the number of steps required, why are they different?\n",
    "   * If DFS gets lucky and picks the correct path to pursue, it will find the goal with fewer steps, even if it is far away. BFS is very efficient when finding closer goals, but if the graph has many branches and the goal is far away, the number of required steps escalates quickly!\n",
    "4. What does that mean for the value for each of these searches?\n",
    "   * With BFS you are guaranteed the shortest path but you may have to examine many more nodes. With DFS, you are guaranteed to find _a_ path and there is no requirement to completely cover the graph, but the path isn't guaranteed to be the shortest. What search to use depends on the number of nodes to search and how important it is to have the shortest path\n",
    "\n",
    "   \n",
    "This leads nicely into our next topic!"
   ]
  },
  {
   "cell_type": "markdown",
   "metadata": {
    "collapsed": true
   },
   "source": [
    "## What is a Shortest Path Problem?\n",
    "Simply put, it is any problem that requires finding the path between two points that is deemed the _shortest_. In the context of _graphs_, one path is shorter than another path when the sum of the _weights_ is smaller. Both _Directed_ and _Undirected_ graphs can be used to represent _shortest path problems_.\n",
    "\n",
    "Let's look at an example. Below is a weighted graph and our task is to find the _shortest path_ from *A* to *F*.\n",
    "\n",
    "![Weighted Graph 1](./images/graph1.png) \n",
    "\n",
    "At first glance it may look like _A->E->F_ is the answer as it only has two steps, but it has a total weight of 12.\n",
    "\n",
    "![Weighted Graph 1 AEF](./images/graph1AEF.png)\n",
    "\n",
    "The actual _shortest path_ is A->B->D->C->E->F. While it takes a whopping 5 steps(!), it has a total weight of 11.\n",
    "\n",
    "![Weighted Graph 1 ABDCEF](./images/graph1ABDCEF.png)\n",
    "\n",
    "## Shortest Paths in the Wild\n",
    "There are countless examples of real life problems that require knowing the _shortest path_. \n",
    "\n",
    "* Navigating with Google Maps\n",
    "* Routing internet traffic\n",
    "* Enemy movement in a video game \n",
    "\n",
    "As long as the problem can be represented as a weighted graph, it can be a _shortest path problem_. In the case of driving directions, intersections can be used as nodes while the driving time between nodes can be used as the edge weight. This graph can even be manipulated in real time to represent traffic delays so that the _shortest path_ changes."
   ]
  },
  {
   "cell_type": "markdown",
   "metadata": {},
   "source": [
    "## Shortest Pathfinding Algorithms\n",
    "\n",
    "Now we know what a _Shortest Path Problem_ is and we already learned about an algorithm, BFS, that is guaranteed to find the shortest path. So we are done right? Let's go home!\n",
    "\n",
    "Sadly, BFS has some pretty big issues when it comes to pathfinding.\n",
    "\n",
    "* It _only_ works on non-weighted graphs. This means it will never be able to take into account things like distance between towns when mapping out directions\n",
    "* It has to search the every branch it comes acrosss before it can decide on a path. Imagine Google Maps spending time investigating roads that go in the wrong direction before it finds the correct path\n",
    "\n",
    "But there is hope! There are dozens of approaches that smarter folks than me have devised to solve these types of problems. We are going to look at just two of them in this module.\n",
    "\n",
    "1. Dijkstra's Algorithm\n",
    "2. A* Algorithm\n",
    "\n",
    "\n",
    "### Dijkstra's\n",
    "\n",
    "As I am sure you guessed, Dijkstra's Algorithm was invented by a gentleman named Edsger Dijkstra in 1956. He claims to have invented it at a cafe in Amsterdam in the span of 20 minutes.\n",
    "\n",
    "The basic algorithm is:\n",
    "\n",
    "1. Add the source node to a priority queue with a priority of 0\n",
    "2. Select the node from the queue with the highest priority\n",
    "3. Select the neighbor of the current node with the lowest cost to visit. To calculate this, add the cost to reach the current node from the source vertex to the cost of traveling to the neighbor\n",
    "4. If this total cost is less than the known cost to reach each neighbor node, update the cost and add the neighbor to the queue with a priority of the new cost\n",
    "5. Repeat steps 2-4 until you find the target node\n",
    "\n",
    "These plain English steps can be formalized into the properly formatted listed below. Please note that the algorithm below has a data structure called _prev_ to help with building a path once the search is complete.\n",
    "\n",
    "```python\n",
    "def dijkstra(graph, source, target):\n",
    "    create empty Priority Queue Q\n",
    "    Put source into Q with priority 0\n",
    "    for each vertex v in graph:\n",
    "        cur_costs[v] <- INF\n",
    "        prev[v] <- NULL\n",
    "    while Q is not empty:\n",
    "            current <- get highest priority vertex\n",
    "            if current == target:\n",
    "                break\n",
    "            for each neighbor n of current:\n",
    "                new_cost <- cur_costs[current] + graph.costs[n]\n",
    "                if new_cost < cur_costs[n]:\n",
    "                    cur_costs[n] <- new_cost\n",
    "                    add n to Q with priority new_cost\n",
    "                    prev[n] <- current\n",
    "    return cur_costs, prev\n",
    "```\n",
    "\n",
    "Armed with this information I believe we are ready to try our hand at implementing Dijkstra's Algorithm on a some small maps similar to our castle example."
   ]
  },
  {
   "cell_type": "markdown",
   "metadata": {},
   "source": [
    "### Let's Do This!\n",
    "For the remainder of this module we are going to use graphs that are represented by grids. This will help us visualize pathfinding a bit easier. It also makes the code more straightforward. We will be storing these maps in 2D Python lists that store different terrain types as _chars_. Below you will find a sample map along with a visual representation to make it easier to see what is going on.\n",
    "\n",
    "```python\n",
    "'''\n",
    "s = source\n",
    "t = target\n",
    "g = grass\n",
    "f = forest\n",
    "h = hill\n",
    "m = mountain\n",
    "w = wall\n",
    "'''\n",
    "\n",
    "map_1 = [['s','g','g','f','f','g','g','f'],\n",
    "         ['g','g','f','h','h','f','g','g'],\n",
    "         ['f','f','h','m','h','f','h','g'],\n",
    "         ['f','h','m','h','f','h','m','h'],\n",
    "         ['f','h','h','f','g','g','h','m'],\n",
    "         ['f','f','f','g','g','g','g','h'],\n",
    "         ['g','g','g','g','h','g','g','g'],\n",
    "         ['g','m','m','m','m','h','g','t']]\n",
    "\n",
    "``` \n",
    "<img src=\"./images/small_map1.png\" align=\"left\"/>\n",
    "<div style=\"clear: both;\"></div>\n",
    "\n",
    "So now that we have a way to represent our graphs as a map we need a way to convert this into something usable by our algoirthm. So let's make a Graph _class_! What does this class need to do?\n",
    "\n",
    "1. Parse map of chars into cost of movement into each grid square\n",
    "2. Know map specifics such as height, width, source, and target\n",
    "3. Provide access to this information\n",
    "\n",
    "We will first design our map parser. It will take in a 2D Python list like the one above and convert all those _chars_ into costs of movement. It will also identify which gridsquares are the source and target.\n",
    "\n",
    "```python\n",
    "# Accepts a map of chars as grid\n",
    "def parse_map(self, grid):\n",
    "        # Save dimensions\n",
    "        self.height = len(grid)\n",
    "        self.width = len(grid[0])\n",
    "        \n",
    "        # Set source and target in case the map doesn't specify\n",
    "        self.source = [0,0]\n",
    "        self.target = [len(grid)-1, len(grid[0])-1]\n",
    "    \n",
    "        # Build an array of same dimensions to store costs of movement (default 1)\n",
    "        self.costs = [[1 for col in range(len(grid[row]))] for row in range(len(grid))]\n",
    "    \n",
    "        # Iterate over map of chars\n",
    "        for row in range(len(self.costs)):\n",
    "            for col in range(len(self.costs[0])):\n",
    "                # Found the source!\n",
    "                if grid[row][col] == 's':\n",
    "                    self.source = [row,col]\n",
    "                # Found the target!\n",
    "                elif grid[row][col] =='t':\n",
    "                    self.target = [row,col]\n",
    "                # Look up the cost for terrain type and assign to costs grid\n",
    "                else:\n",
    "                    self.costs[row][col] = self.cost_legend[grid[row][col]]\n",
    "```\n",
    "\n",
    "The rest of the functionality is straightforward so see the complete _Graph_ class below."
   ]
  },
  {
   "cell_type": "code",
   "execution_count": 8,
   "metadata": {},
   "outputs": [],
   "source": [
    "class Graph:\n",
    "    \n",
    "    # Cost for moving into each terrain type\n",
    "    cost_legend = {'g':1, 'f':2, 'h':3, 'm':4, 'w':float('inf')}\n",
    "    \n",
    "    def __init__(self, grid):\n",
    "        self.map = grid\n",
    "        self.parse_map(grid)\n",
    "        \n",
    "    # Accepts a map of chars as grid\n",
    "    def parse_map(self, grid):\n",
    "        # Save dimensions\n",
    "        self.height = len(grid)\n",
    "        self.width = len(grid[0])\n",
    "        \n",
    "        # Set source and target in case the map doesn't specify\n",
    "        self.source = [0,0]\n",
    "        self.target = [len(grid)-1, len(grid[0])-1]\n",
    "    \n",
    "        # Build an array of same dimensions to store costs of movement (default 1)\n",
    "        self.costs = [[1 for col in range(len(grid[row]))] for row in range(len(grid))]\n",
    "    \n",
    "        # Iterate over map of chars\n",
    "        for row in range(len(self.costs)):\n",
    "            for col in range(len(self.costs[0])):\n",
    "                # Found the source!\n",
    "                if grid[row][col] == 's':\n",
    "                    self.source = [row,col]\n",
    "                # Found the target!\n",
    "                elif grid[row][col] =='t':\n",
    "                    self.target = [row,col]\n",
    "                # Look up the cost for terrain type and assign to costs grid\n",
    "                else:\n",
    "                    self.costs[row][col] = self.cost_legend[grid[row][col]]\n",
    "    \n",
    "    # Returns true if the passed loc is within the grid\n",
    "    def in_bounds(self, loc):\n",
    "        row, col = loc\n",
    "        return 0 <= row < self.height and 0 <= col < self.width\n",
    "    \n",
    "    # Returns the cost of moving into the gridsquare loc\n",
    "    def cost(self, loc):\n",
    "        row, col = loc\n",
    "        return self.costs[row][col]"
   ]
  },
  {
   "cell_type": "markdown",
   "metadata": {},
   "source": [
    "### Priority Queue\n",
    "Now that we can represent our map as a graph, we need to have a way for Dijkstra's algorithm to keep track of our ever expanding list of nodes that need processing. For this we need a _Priority Queue_. While there are ready-made classes available we don't need all those features and they are easy to implement. For our purposes the _Priority Queue_ needs the following features:\n",
    "\n",
    "1. Store all the elements\n",
    "2. Add elements to queue\n",
    "3. Sort elements so the item with the highest priority is at the front\n",
    "4. Remove the first item and return it\n",
    "\n",
    "For our implementation we will use a simple List which we will call *Q* (get it?). When adding elements to the queue we will simply append them to the list. To ensure that the highest priority element is on the top we will use the built in list _sort()_ function. This sorts from highest to lowest priority so when using retrieving the highest priority element we need to use _pop(0)_. The _empty()_ function will just check the length of the queue.\n",
    "\n",
    "Please see the full class below."
   ]
  },
  {
   "cell_type": "code",
   "execution_count": 9,
   "metadata": {},
   "outputs": [],
   "source": [
    "class Priority_Queue():\n",
    "    \n",
    "    # Declare list to use for the queue\n",
    "    def __init__(self):\n",
    "        self.Q = []\n",
    "    \n",
    "    # Add item to queue and sort by priority\n",
    "    def put(self, item):\n",
    "        self.Q.append(item)\n",
    "        self.Q.sort()\n",
    "    \n",
    "    # Pop off the front of the queue and return item\n",
    "    def get(self):\n",
    "        if not self.empty():\n",
    "            item = self.Q.pop(0)\n",
    "            return item\n",
    "        else:\n",
    "            return None\n",
    "    # Returns true if the queue is empty\n",
    "    def empty(self):\n",
    "        return len(self.Q) == 0"
   ]
  },
  {
   "cell_type": "markdown",
   "metadata": {},
   "source": [
    "### Some Utility Code\n",
    "\n",
    "The code below will be required when we finally implement our search algorithms. The first part consists of our map data. This is followed by two lists _directions_, which will help us quickly find the neighbors for each gridsquare, and <i>direction_symbols</i>, which will be used for visualizing the path once we found it. Finally, we have <i>print_grid</i> which makes it easy to display any sort of 2D list, whether it is a map, cost grid, or even the final path."
   ]
  },
  {
   "cell_type": "code",
   "execution_count": 10,
   "metadata": {},
   "outputs": [],
   "source": [
    "map_1 = [['s','g','g','f','f','g','g','f'],\n",
    "         ['g','g','f','h','h','f','g','g'],\n",
    "         ['f','f','h','m','h','f','h','g'],\n",
    "         ['f','h','m','h','f','h','m','h'],\n",
    "         ['f','h','h','f','g','g','h','m'],\n",
    "         ['f','f','f','g','g','g','g','h'],\n",
    "         ['g','g','g','g','h','g','g','g'],\n",
    "         ['g','m','m','m','m','h','g','t']]\n",
    "\n",
    "map_2 = [['s','g','g','f','f','g','g','f'],\n",
    "         ['g','g','f','h','h','f','g','g'],\n",
    "         ['f','f','h','m','h','f','h','g'],\n",
    "         ['f','h','m','h','f','h','m','h'],\n",
    "         ['f','h','h','f','g','f','h','m'],\n",
    "         ['f','f','f','g','g','g','g','h'],\n",
    "         ['g','g','g','g','h','g','g','g'],\n",
    "         ['g','m','m','m','m','h','g','t']]\n",
    "\n",
    "map_3 = [['s','g','g','g','g','g','g','g'],\n",
    "         ['g','g','g','g','g','g','g','g'],\n",
    "         ['g','g','g','g','g','g','g','g'],\n",
    "         ['g','g','g','g','g','g','g','g'],\n",
    "         ['g','g','g','g','g','g','g','g'],\n",
    "         ['g','g','g','g','g','g','g','g'],\n",
    "         ['g','g','g','g','g','g','g','g'],\n",
    "         ['g','g','g','g','g','g','g','t'],\n",
    "        ]\n",
    "\n",
    "directions = [[-1, 0 ], # Up\n",
    "             [ 0, -1],  # Left\n",
    "             [ 1, 0 ],  # Down\n",
    "             [ 0, 1 ]]  # Right\n",
    "\n",
    "direction_symbols = [\"^\", # Up \n",
    "                     \"<\", # Left\n",
    "                     \"V\", # Down\n",
    "                     \">\"] # Right\n",
    "\n",
    "def print_grid(name, grid):\n",
    "    print(name + \": \")\n",
    "    for row in grid:\n",
    "        print(row)\n",
    "    print()"
   ]
  },
  {
   "cell_type": "markdown",
   "metadata": {},
   "source": [
    "### Writing Dijkstra's Algorithm\n",
    "\n",
    "Here will be video showing the actual writing of the code the follows. The video will feature voice-overs that describe what each portion of the algorithm does and the design motivations."
   ]
  },
  {
   "cell_type": "code",
   "execution_count": null,
   "metadata": {},
   "outputs": [],
   "source": [
    "def dijkstra(graph):\n",
    "    Q = Priority_Queue()\n",
    "    Q.put([0, graph.source])\n",
    "    cur_costs = [[float('inf') for col in range(graph.width)] for row in range(graph.height)]\n",
    "    prev = [[' ' for col in range(graph.width)] for row in range(graph.height)]\n",
    "    cur_costs[graph.source[0]][graph.source[1]] = 0\n",
    "    steps = 0\n",
    "    \n",
    "    while not Q.empty():\n",
    "        steps += 1\n",
    "        # Get the closest node\n",
    "        closest = Q.get()\n",
    "        current = closest[1]\n",
    "        \n",
    "        if current == graph.target:\n",
    "            return cur_costs, prev, steps\n",
    "\n",
    "        for i in range(len(directions)):\n",
    "            n_row = current[0] + directions[i][0]\n",
    "            n_col = current[1] + directions[i][1]\n",
    "            if graph.in_bounds([n_row, n_col]):\n",
    "                new_cost = cur_costs[current[0]][current[1]] + graph.cost([n_row, n_col])\n",
    "                if new_cost < cur_costs[n_row][n_col]:\n",
    "                    cur_costs[n_row][n_col] = new_cost\n",
    "                    Q.put([new_cost, [n_row, n_col]])\n",
    "                    prev[n_row][n_col] = i\n",
    "                    \n",
    "    return cur_costs, prev, steps"
   ]
  },
  {
   "cell_type": "markdown",
   "metadata": {},
   "source": [
    "### One Last Thing!\n",
    "So we now have a complete search algorithm! The last step is to visualize the path from the _source_ to the _target_. We will need one more function <i>build_path</i>. Remember that in the search algorithm we produced a 2D list called _prev_ in which we stored the direction that was used to move into each gridsquare. Our function, <i>build_path</i>, starts at the _target_ and works backwards, updating the _path_ grid with the symbols corresponding to the the stored directions in _prev_. It does this until it reaches the _source_ node."
   ]
  },
  {
   "cell_type": "code",
   "execution_count": 19,
   "metadata": {},
   "outputs": [],
   "source": [
    "# Builds path by working backwards from target\n",
    "def build_path(prev, source, target):\n",
    "    # Create a 2D list of the same size as the map\n",
    "    path = [[' ' for col in range(len(prev[row]))] for row in range(len(prev))]\n",
    "    \n",
    "    # Get target node\n",
    "    row, col = target\n",
    "    \n",
    "    # Designate the target node in the path grid\n",
    "    path[row][col] = '*'\n",
    "    \n",
    "    # Continue until reaching the source node\n",
    "    while [row, col] != source:\n",
    "        # Apply the stored movement direction to the current node to find next node\n",
    "        new_row = row - directions[prev[row][col]][0]\n",
    "        new_col = col - directions[prev[row][col]][1]\n",
    "        # Insert the corresponding direction symbol to the next node\n",
    "        path[new_row][new_col] = direction_symbols[prev[row][col]]\n",
    "        # Update the current node\n",
    "        row = new_row\n",
    "        col = new_col\n",
    "    return path"
   ]
  },
  {
   "cell_type": "code",
   "execution_count": 18,
   "metadata": {},
   "outputs": [
    {
     "data": {
      "application/vnd.jupyter.widget-view+json": {
       "model_id": "31a4431cae46497ea5bf340beed8673f",
       "version_major": 2,
       "version_minor": 0
      },
      "text/html": [
       "<p>Failed to display Jupyter Widget of type <code>interactive</code>.</p>\n",
       "<p>\n",
       "  If you're reading this message in the Jupyter Notebook or JupyterLab Notebook, it may mean\n",
       "  that the widgets JavaScript is still loading. If this message persists, it\n",
       "  likely means that the widgets JavaScript library is either not installed or\n",
       "  not enabled. See the <a href=\"https://ipywidgets.readthedocs.io/en/stable/user_install.html\">Jupyter\n",
       "  Widgets Documentation</a> for setup instructions.\n",
       "</p>\n",
       "<p>\n",
       "  If you're reading this message in another frontend (for example, a static\n",
       "  rendering on GitHub or <a href=\"https://nbviewer.jupyter.org/\">NBViewer</a>),\n",
       "  it may mean that your frontend doesn't currently support widgets.\n",
       "</p>\n"
      ],
      "text/plain": [
       "interactive(children=(Dropdown(description=u'map_select', options=(1, 2, 3), value=1), Output()), _dom_classes=('widget-interact',))"
      ]
     },
     "metadata": {},
     "output_type": "display_data"
    },
    {
     "data": {
      "text/plain": [
       "<function __main__.run_dijkstra>"
      ]
     },
     "execution_count": 18,
     "metadata": {},
     "output_type": "execute_result"
    }
   ],
   "source": [
    "maps = [map_1, map_2, map_3]\n",
    "map_files = ['small_map1.png', 'small_map2.png', 'small_map3.png']\n",
    "\n",
    "def run_dijkstra(map_select):\n",
    "    graph = Graph(maps[map_select - 1])\n",
    "    costs, prev, steps = dijkstra(graph)\n",
    "    print_grid(\"Costs:\", costs)\n",
    "    path = build_path(prev, graph.source, graph.target)\n",
    "    print_grid(\"Path\", path),\n",
    "    print(\"Number of steps: \" + str(steps))\n",
    "    display(Image(filename='./images/' + map_files[map_select-1]))\n",
    "    \n",
    "interact(run_dijkstra, map_select=[1,2,3])"
   ]
  },
  {
   "cell_type": "code",
   "execution_count": null,
   "metadata": {},
   "outputs": [],
   "source": []
  }
 ],
 "metadata": {
  "kernelspec": {
   "display_name": "Python 2",
   "language": "python",
   "name": "python2"
  },
  "language_info": {
   "codemirror_mode": {
    "name": "ipython",
    "version": 2
   },
   "file_extension": ".py",
   "mimetype": "text/x-python",
   "name": "python",
   "nbconvert_exporter": "python",
   "pygments_lexer": "ipython2",
   "version": "2.7.13"
  }
 },
 "nbformat": 4,
 "nbformat_minor": 2
}
