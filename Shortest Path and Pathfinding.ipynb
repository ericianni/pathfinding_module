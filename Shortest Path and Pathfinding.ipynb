{
 "cells": [
  {
   "cell_type": "markdown",
   "metadata": {},
   "source": [
    "# Introduction to Shortest Path and Pathfinding\n",
    "### Designed by Eric Ianni\n",
    "\n",
    "### Pre-requisits\n",
    "* Knowledge of basic Python and the use of multi-dimensional arrays\n",
    "* Knowledge of basic weighted graphs\n",
    "\n",
    "### Let's Paint a Picture!\n",
    "\n",
    "Imagine you are a playing a turn-based computer game where you have a limited number of movement points per turn. Your task is to start at the village inthe top left and make it to the chest in the castle as quickly as possible without moving diagnolly.\n",
    "\n",
    "![Castle image](./images/castle_map.png)\n",
    "\n",
    "To you, as a human, it is very easy to see that the only clear path is around the North of the castle, back down the East and across the bridges in the South.  You are able to process the entire map at once and quickly identify dead ends.\n",
    "\n",
    "To a computer this task isn't that easy. Computers are limited in how much of the \"big picture\" they can see and have to approach problems in single steps at a time. \n",
    "\n",
    "Now imagine you are told that it is possible to cross water tiles, but there is a movement penalty. All of a sudden the task isn't so easy as you have to consider if swimming the moat is faster than the long way. Still, you can probably figure out that crossing the one water tile to the South-West is probably the fastest route.\n",
    "\n",
    "Now imagine it is possible to climb the castle walls, but with a stiff movement penalty. Can you still confidently say for sure you know the fastest path without sitting down and doing the math for multiple different routes?\n",
    "\n",
    "In this latest scenario you find yourself approaching the problem how a computer  does!\n",
    "\n",
    "### Welcome to Pathfinding!\n",
    "\n",
    "In this module you will learn about how computers solve the _Shortest Path Problem_ by using different _Pathfinding_ algorithms. We will begin by examining real world problems that require a shortest path. Next, we will learn to frame those problems as graphs so we can apply different algorithms. Finally, we will examine these algorithms and how each approach the problem differently. \n",
    "\n",
    "### Learning Objectives\n",
    "\n",
    "* Define the _Shortest Path Problem_ and give examples\n",
    "* Describe _Depth First Search_ and _Breadth First Search_ while citing the differences and the required data structures\n",
    "* Describe Dijkstra's algorithm and implement\n",
    "* Describe the A* algorithm and implement\n",
    "\n",
    "## What is a Shortest Path Problem?\n",
    "Simply put, it is any problem that requires identifying the route (path) between two points that is deemed the _shortest_. In the context of _graphs_, one path is shorter than another when the sum of the _weights_ is smaller. Both _Directed_ and _Undirected_ graphs can be used to represent _shortest path problems_.\n",
    "\n",
    "Let's look at an example. Below is a weighted graph and our task is to find the _shortest path_ from _A_ to _F_.\n",
    "\n",
    "![Weighted Graph 1](./images/graph1.png)\n",
    "\n",
    "At first glance it may look like _A->E->F_ is the answer as it only has two steps, but it has a total weight of 12.\n",
    "\n",
    "![Weighted Graph 1 AEF](./images/graph1AEF.png)\n",
    "\n",
    "The actual _shortest path_ is A->B->D->C->E->F. While it takes a whopping 5 steps(!), it has a total weight of 11.\n",
    "\n",
    "![Weighted Graph 1 ABDCEF](./images/graph1ABDCEF.png)\n",
    "\n",
    "## Shortest Paths in the Wild\n",
    "There are countless examples of real life problems that require knowing the _shortest path_. \n",
    "\n",
    "* Navigating with Google Maps\n",
    "* Routing internet traffic\n",
    "* Enemy movement in a video game \n",
    "\n",
    "As long as the problem can be represented as a weighted graph, it can be a _shortest path problem_. In the case of driving directions, intersections can be used as nodes while the driving time between nodes can be used as the edge weight. This graph can even be manipulated in real time to represent traffic delays so that the _shortest path_ changes.\n",
    "\n",
    "![City Graph](./images/city_graph.png)\n",
    "\n"
   ]
  },
  {
   "cell_type": "code",
   "execution_count": null,
   "metadata": {
    "collapsed": true
   },
   "outputs": [],
   "source": []
  }
 ],
 "metadata": {
  "kernelspec": {
   "display_name": "Python 2",
   "language": "python",
   "name": "python2"
  },
  "language_info": {
   "codemirror_mode": {
    "name": "ipython",
    "version": 2
   },
   "file_extension": ".py",
   "mimetype": "text/x-python",
   "name": "python",
   "nbconvert_exporter": "python",
   "pygments_lexer": "ipython2",
   "version": "2.7.13"
  }
 },
 "nbformat": 4,
 "nbformat_minor": 2
}
