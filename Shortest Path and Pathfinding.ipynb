{
 "cells": [
  {
   "cell_type": "markdown",
   "metadata": {},
   "source": [
    "# Introduction to Shortest Path and Pathfinding\n",
    "### Designed by Eric Ianni\n",
    "\n",
    "### Pre-requisits\n",
    "* Knowledge of how to use a Jupyter Notebook\n",
    "* Knowledge of basic Python and the use of multi-dimensional arrays\n",
    "* Knowledge of basic weighted graphs\n",
    "\n",
    "### Let's Paint a Picture!\n",
    "\n",
    "Imagine you are a playing a turn-based computer game where you have a limited number of movement points per turn. Your task is to start at the village inthe top left and make it to the chest in the castle as quickly as possible without moving diagnolly.\n",
    "\n",
    "![Castle image](./images/castle_map.png)\n",
    "\n",
    "To you, as a human, it is very easy to see that the only clear path is around the North of the castle, back down the East and across the bridges in the South.  You are able to process the entire map at once and quickly identify dead ends.\n",
    "\n",
    "To a computer this task isn't that easy. Computers are limited in how much of the \"big picture\" they can see and have to approach problems in single steps at a time. \n",
    "\n",
    "Now imagine you are told that it is possible to cross water tiles, but there is a movement penalty. All of a sudden the task isn't so easy as you have to consider if swimming the moat is faster than the long way. Still, you can probably figure out that crossing the one water tile to the South-West is probably the fastest route.\n",
    "\n",
    "Now imagine it is possible to climb the castle walls, but with a stiff movement penalty. Can you still confidently say for sure you know the fastest path without sitting down and doing the math for multiple different routes?\n",
    "\n",
    "In this latest scenario you find yourself approaching the problem how a computer  does!\n",
    "\n",
    "### Welcome to Pathfinding!\n",
    "\n",
    "In this module you will learn about how computers solve the _Shortest Path Problem_ by using different _Pathfinding_ algorithms. We will begin by examining real world problems that require a shortest path. Next, we will learn to frame those problems as graphs so we can apply different algorithms. Finally, we will examine these algorithms and how each approach the problem differently. \n",
    "\n",
    "### Learning Objectives\n",
    "\n",
    "* Define the _Shortest Path Problem_ and give examples\n",
    "* Describe _Depth First Search_ and _Breadth First Search_ while citing the differences and the required data structures\n",
    "* Describe Dijkstra's algorithm and implement\n",
    "* Describe the A* algorithm and implement"
   ]
  },
  {
   "cell_type": "markdown",
   "metadata": {
    "collapsed": true
   },
   "source": [
    "## What is Pathfinding?\n",
    "The simplest definition of _pathfinding_ is finding a route (_path_) between points *A* and *B*. We do this all the time everyday of our lives. When driving to the store we have to pick which streets to follow to get there. Even the simple act of crossing a room is an act of selecting a route, even more so if you have children leaving toys on the ground!\n",
    "\n",
    "While you or I use our eyes and intuition for many _pathfinding_ tasks, computers must rely on other approaches. Most computational _pathfinding_ makes heavy use of _graphy theory_. This involves defining the given situation as a _graph_: a series of nodes and edges. \n",
    "\n",
    "To demonstrate this process, let's imagine a bus-network between a few cities: New York City, Boston, Washington D.C., Columbus, and Chicago. To represent the network, we begin by designating each city a _vertex_ in the graph. We then create an _edge_ between vertices to mirror the bus-routes. Finally we can assign the number of miles between the cities as the edge _weights_.\n",
    "\n",
    "![City Graph](./images/city_graph.png)\n",
    "\n",
    "Now that we have learned how to frame a problem in a way for computers to understand, it is time to actually find a path.\n",
    "\n",
    "## Introducing Twiddle Dee and Twiddle Dumb\n",
    "\n",
    "The first two algorithms we are going to examine are _Depth First Search_ (DFS) and _Breadth First Search_ (BFS). These two methods are what I would call _dumb_ in that they are brute force approaches to the problem of _pathfinding_. \n",
    "\n",
    "They get their name from how they search through _tree graphs_. DFS searches down a single branch until it reaches a leaf before it backtracks. BFS, on the other hand, searches each child node before moving onto lower levels of the tree.  \n",
    "\n",
    "![DFS vs. BFS in Binary Trees](./images/binary_tree_search.png)(image borrowed from http://mishadoff.com/blog/dfs-on-binary-tree-array/)\n",
    "\n",
    "When not being used for _pathfinding_, DFS and BFS return a list of nodes in the order in which they were visited/searched. Given the binary-trees above:\n",
    "\n",
    "* DFS would return **[0,1,3,4,2,5,6]** \n",
    "* BFS would return **[0,1,2,3,4,5,6]**\n",
    "\n",
    "## Let's see these two in action!\n",
    "\n",
    "For this section we are going to be using the following graph.\n",
    "\n",
    "![DFS & BFS Graph](./images/dfs_bfs_graph.png)\n",
    "(Image borrowed from https://eddmann.com/posts/depth-first-search-and-breadth-first-search-in-python/)\n",
    "\n",
    "Below you will find two code snippets that implement DFS and BFS. You will be able to run these algorithms with different parameters to get a feel for how each search works. \n",
    "\n",
    "Begin by simply running the cells (ctrl-enter) and trying different values for the starting node and the goal node. Try the same values for start and goal for each algorithm. \n",
    "\n",
    "After you have experimented, try to answer the following questions:\n",
    "\n",
    "1. Why don't DFS and BFS come up with the same path?\n",
    "2. Why does BFS seem to be able to find shorter paths than DFS? (look at start: 'A' and goal: 'C')\n",
    "3. What does that mean for the value for each of these searches?\n",
    "\n",
    "Now go have fun!"
   ]
  },
  {
   "cell_type": "markdown",
   "metadata": {},
   "source": [
    "### Depth First Search Playground"
   ]
  },
  {
   "cell_type": "code",
   "execution_count": 30,
   "metadata": {},
   "outputs": [
    {
     "name": "stdout",
     "output_type": "stream",
     "text": [
      "Enter Starting Node: A\n",
      "Enter Goal Node: C\n",
      "['A', 'B', 'E', 'F', 'C']\n"
     ]
    }
   ],
   "source": [
    "# Code modified from https://eddmann.com/posts/depth-first-search-and-breadth-first-search-in-python/\n",
    "\n",
    "graph = {'A': set(['B', 'C']),\n",
    "         'B': set(['A', 'D', 'E']),\n",
    "         'C': set(['A', 'F']),\n",
    "         'D': set(['B']),\n",
    "         'E': set(['B', 'F']),\n",
    "         'F': set(['C', 'E'])}\n",
    "            \n",
    "def dfs(graph, start, goal):\n",
    "    stack = [(start, [start])]\n",
    "    while stack:\n",
    "        (vertex, path) = stack.pop()\n",
    "        if vertex == goal:\n",
    "            return path\n",
    "        for next in graph[vertex] - set(path):\n",
    "            stack.append((next, path + [next]))\n",
    "\n",
    "start = raw_input(\"Enter Starting Node: \")            \n",
    "goal = raw_input(\"Enter Goal Node: \")\n",
    "print(dfs(graph, start, goal))"
   ]
  },
  {
   "cell_type": "markdown",
   "metadata": {},
   "source": [
    "### Breath First Search Playground"
   ]
  },
  {
   "cell_type": "code",
   "execution_count": 31,
   "metadata": {},
   "outputs": [
    {
     "name": "stdout",
     "output_type": "stream",
     "text": [
      "Enter Starting Node: A\n",
      "Enter Goal Node: C\n",
      "['A', 'C']\n"
     ]
    }
   ],
   "source": [
    "# Code modified from https://eddmann.com/posts/depth-first-search-and-breadth-first-search-in-python/\n",
    "\n",
    "graph = {'A': set(['B', 'C']),\n",
    "         'B': set(['A', 'D', 'E']),\n",
    "         'C': set(['A', 'F']),\n",
    "         'D': set(['B']),\n",
    "         'E': set(['B', 'F']),\n",
    "         'F': set(['C', 'E'])}\n",
    "\n",
    "def bfs(graph, start, goal):\n",
    "    queue = [(start, [start])]\n",
    "    while queue:\n",
    "        (vertex, path) = queue.pop(0)\n",
    "        if vertex == goal:\n",
    "            return path\n",
    "        for next in graph[vertex] - set(path):\n",
    "            queue.append((next, path + [next]))\n",
    "\n",
    "start = raw_input(\"Enter Starting Node: \")            \n",
    "goal = raw_input(\"Enter Goal Node: \")\n",
    "print(bfs(graph, start, goal))"
   ]
  },
  {
   "cell_type": "markdown",
   "metadata": {},
   "source": [
    "### Time to Debrief\n",
    "\n",
    "I hope you had fun experimenting with both searches. Did you have time to answer those questions?\n",
    "\n",
    "1. Why don't DFS and BFS come up with the same path?\n",
    "   * DFS rushes head long down a single path until it hits a dead end. BFS cautiously expands the search radius little by little\n",
    "2. Why does BFS seem to be able to find shorter paths than DFS? (look at start: 'A' and goal: 'C')\n",
    "   * BFS's cautious approach means if the goal node is close by, it doesn't run past it like DFS does\n",
    "3. What does that mean for the value for each of these searches?\n",
    "   * With BFS you are guaranteed the shortest path but you will have to examine _every_ node. With DFS, you are guaranteed to find _a_ path and there is no requirement to completely cover the graph, but the path isn't guaranteed to be the shortest. What search to use depends on the number of nodes to search and how important it is to have the shortest path\n",
    "   \n",
    "This leads nicely into our next topic!"
   ]
  },
  {
   "cell_type": "markdown",
   "metadata": {
    "collapsed": true
   },
   "source": [
    "## What is a Shortest Path Problem?\n",
    "Simply put, it is any problem that requires finding the path between two points that is deemed the _shortest_. In the context of _graphs_, one path is shorter than anotherpath when the sum of the _weights_ is smaller. Both _Directed_ and _Undirected_ graphs can be used to represent _shortest path problems_.\n",
    "\n",
    "Let's look at an example. Below is a weighted graph and our task is to find the _shortest path_ from *A* to *F*.\n",
    "\n",
    "![Weighted Graph 1](./images/graph1.png) \n",
    "\n",
    "At first glance it may look like _A->E->F_ is the answer as it only has two steps, but it has a total weight of 12.\n",
    "\n",
    "![Weighted Graph 1 AEF](./images/graph1AEF.png)\n",
    "\n",
    "The actual _shortest path_ is A->B->D->C->E->F. While it takes a whopping 5 steps(!), it has a total weight of 11.\n",
    "\n",
    "![Weighted Graph 1 ABDCEF](./images/graph1ABDCEF.png)\n",
    "\n",
    "## Shortest Paths in the Wild\n",
    "There are countless examples of real life problems that require knowing the _shortest path_. \n",
    "\n",
    "* Navigating with Google Maps\n",
    "* Routing internet traffic\n",
    "* Enemy movement in a video game \n",
    "\n",
    "As long as the problem can be represented as a weighted graph, it can be a _shortest path problem_. In the case of driving directions, intersections can be used as nodes while the driving time between nodes can be used as the edge weight. This graph can even be manipulated in real time to represent traffic delays so that the _shortest path_ changes."
   ]
  },
  {
   "cell_type": "markdown",
   "metadata": {},
   "source": [
    "## Shortest Pathfinding Algorithms\n",
    "\n",
    "Now we know what a _Shortest Path Problem_ is and we already learned about an algorithm, BFS, that is guaranteed to find the shortest path. So we are done right? Let's go home!\n",
    "\n",
    "Sadly, BFS has some pretty big issues when it comes to pathfinding.\n",
    "\n",
    "* It _only_ works on non-weighted graphs. This means it will never be able to take into account things like distance between towns when mapping out directions\n",
    "* It has to search the entire graph before it can decide on a path. Imagine Google Maps having to search _every_ road, in the _world_, before it would start navigating\n",
    "\n",
    "But there is hope! There are dozens of approaches that smartert folks than me have devised to solve these types of problems. We are going to look at two of them in this module.\n",
    "\n",
    "1. Dijkstra's Algorithm\n",
    "2. A* Algorithm\n",
    "\n",
    "### Dijkstra's\n",
    "\n",
    "### A* "
   ]
  }
 ],
 "metadata": {
  "kernelspec": {
   "display_name": "Python 2",
   "language": "python",
   "name": "python2"
  },
  "language_info": {
   "codemirror_mode": {
    "name": "ipython",
    "version": 2
   },
   "file_extension": ".py",
   "mimetype": "text/x-python",
   "name": "python",
   "nbconvert_exporter": "python",
   "pygments_lexer": "ipython2",
   "version": "2.7.13"
  }
 },
 "nbformat": 4,
 "nbformat_minor": 2
}
