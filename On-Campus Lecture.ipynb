{
 "cells": [
  {
   "cell_type": "markdown",
   "metadata": {},
   "source": [
    "# Introduction to Shortest Path and Pathfinding\n",
    "### Designed by Eric Ianni\n",
    "\n",
    "### Pre-requisits\n",
    "* Knowledge of how to use a Jupyter Notebook\n",
    "* Knowledge of basic Python and the use of multi-dimensional arrays\n",
    "* Knowledge of basic weighted graphs\n",
    "\n",
    "### Let's Paint a Picture!\n",
    "|     |     |\n",
    "| --- | --- |\n",
    "|* TEsting lists|![Castle image](./images/castle_map.png)|"
   ]
  },
  {
   "cell_type": "code",
   "execution_count": null,
   "metadata": {},
   "outputs": [],
   "source": []
  }
 ],
 "metadata": {
  "kernelspec": {
   "display_name": "Python 2",
   "language": "python",
   "name": "python2"
  },
  "language_info": {
   "codemirror_mode": {
    "name": "ipython",
    "version": 2
   },
   "file_extension": ".py",
   "mimetype": "text/x-python",
   "name": "python",
   "nbconvert_exporter": "python",
   "pygments_lexer": "ipython2",
   "version": "2.7.13"
  }
 },
 "nbformat": 4,
 "nbformat_minor": 2
}
