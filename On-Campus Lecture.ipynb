{
 "cells": [
  {
   "cell_type": "code",
   "execution_count": 1,
   "metadata": {},
   "outputs": [],
   "source": [
    "from __future__ import print_function\n",
    "from ipywidgets import interact, interactive, fixed, interact_manual\n",
    "import ipywidgets as widgets\n",
    "\n",
    "from IPython.display import display, Image"
   ]
  },
  {
   "cell_type": "markdown",
   "metadata": {},
   "source": [
    "# Introduction to Shortest Path and Pathfinding\n",
    "### Designed by Eric Ianni\n",
    "\n",
    "### Pre-requisits\n",
    "* Knowledge of how to use a Jupyter Notebook\n",
    "* Knowledge of basic Python and the use of multi-dimensional arrays\n",
    "* Knowledge of basic weighted graphs\n",
    "\n",
    "### Let's Paint a Picture!\n",
    "![Castle image](./images/castle_map.png)\n"
   ]
  },
  {
   "cell_type": "markdown",
   "metadata": {
    "heading_collapsed": true
   },
   "source": [
    "## Depth First Search Playground"
   ]
  },
  {
   "cell_type": "code",
   "execution_count": 2,
   "metadata": {
    "hidden": true
   },
   "outputs": [
    {
     "data": {
      "application/vnd.jupyter.widget-view+json": {
       "model_id": "211e4517159348b5876b901a49908a5d",
       "version_major": 2,
       "version_minor": 0
      },
      "text/html": [
       "<p>Failed to display Jupyter Widget of type <code>interactive</code>.</p>\n",
       "<p>\n",
       "  If you're reading this message in the Jupyter Notebook or JupyterLab Notebook, it may mean\n",
       "  that the widgets JavaScript is still loading. If this message persists, it\n",
       "  likely means that the widgets JavaScript library is either not installed or\n",
       "  not enabled. See the <a href=\"https://ipywidgets.readthedocs.io/en/stable/user_install.html\">Jupyter\n",
       "  Widgets Documentation</a> for setup instructions.\n",
       "</p>\n",
       "<p>\n",
       "  If you're reading this message in another frontend (for example, a static\n",
       "  rendering on GitHub or <a href=\"https://nbviewer.jupyter.org/\">NBViewer</a>),\n",
       "  it may mean that your frontend doesn't currently support widgets.\n",
       "</p>\n"
      ],
      "text/plain": [
       "interactive(children=(Dropdown(description=u'start', options=('A', 'B', 'C', 'D', 'E', 'F'), value='A'), Dropdown(description=u'goal', options=('A', 'B', 'C', 'D', 'E', 'F'), value='A'), Output()), _dom_classes=('widget-interact',))"
      ]
     },
     "metadata": {},
     "output_type": "display_data"
    },
    {
     "data": {
      "text/plain": [
       "<function __main__.run_dfs>"
      ]
     },
     "execution_count": 2,
     "metadata": {},
     "output_type": "execute_result"
    }
   ],
   "source": [
    "# Code modified from https://eddmann.com/posts/depth-first-search-and-breadth-first-search-in-python/\n",
    "\n",
    "graph = {'A': set(['B', 'C']),\n",
    "         'B': set(['A', 'D', 'E']),\n",
    "         'C': set(['A', 'F']),\n",
    "         'D': set(['B']),\n",
    "         'E': set(['B', 'F']),\n",
    "         'F': set(['C', 'E'])}\n",
    "            \n",
    "def dfs(graph, start, goal):\n",
    "    steps = 0\n",
    "    stack = [(start, [start])]\n",
    "    while stack:\n",
    "        steps += 1\n",
    "        (vertex, path) = stack.pop()\n",
    "        if vertex == goal:\n",
    "            return path, steps\n",
    "        for next in graph[vertex] - set(path):\n",
    "            stack.append((next, path + [next]))\n",
    "\n",
    "def run_dfs(start, goal):\n",
    "    path, steps = dfs(graph, start, goal)\n",
    "    print(\"Path: \" + str(path))\n",
    "    print(\"Steps: \" + str(steps))\n",
    "\n",
    "interact(run_dfs, start=['A','B','C','D','E','F'], goal=['A','B','C','D','E','F'])\n"
   ]
  },
  {
   "cell_type": "markdown",
   "metadata": {
    "heading_collapsed": true
   },
   "source": [
    "## Breath First Search Playground"
   ]
  },
  {
   "cell_type": "code",
   "execution_count": 3,
   "metadata": {
    "hidden": true
   },
   "outputs": [
    {
     "data": {
      "application/vnd.jupyter.widget-view+json": {
       "model_id": "9482e047b3ef431090190d0f0d1c875c",
       "version_major": 2,
       "version_minor": 0
      },
      "text/html": [
       "<p>Failed to display Jupyter Widget of type <code>interactive</code>.</p>\n",
       "<p>\n",
       "  If you're reading this message in the Jupyter Notebook or JupyterLab Notebook, it may mean\n",
       "  that the widgets JavaScript is still loading. If this message persists, it\n",
       "  likely means that the widgets JavaScript library is either not installed or\n",
       "  not enabled. See the <a href=\"https://ipywidgets.readthedocs.io/en/stable/user_install.html\">Jupyter\n",
       "  Widgets Documentation</a> for setup instructions.\n",
       "</p>\n",
       "<p>\n",
       "  If you're reading this message in another frontend (for example, a static\n",
       "  rendering on GitHub or <a href=\"https://nbviewer.jupyter.org/\">NBViewer</a>),\n",
       "  it may mean that your frontend doesn't currently support widgets.\n",
       "</p>\n"
      ],
      "text/plain": [
       "interactive(children=(Dropdown(description=u'start', options=('A', 'B', 'C', 'D', 'E', 'F'), value='A'), Dropdown(description=u'goal', options=('A', 'B', 'C', 'D', 'E', 'F'), value='A'), Output()), _dom_classes=('widget-interact',))"
      ]
     },
     "metadata": {},
     "output_type": "display_data"
    },
    {
     "data": {
      "text/plain": [
       "<function __main__.run_bfs>"
      ]
     },
     "execution_count": 3,
     "metadata": {},
     "output_type": "execute_result"
    }
   ],
   "source": [
    "# Code modified from https://eddmann.com/posts/depth-first-search-and-breadth-first-search-in-python/\n",
    "\n",
    "graph = {'A': set(['B', 'C']),\n",
    "         'B': set(['A', 'D', 'E']),\n",
    "         'C': set(['A', 'F']),\n",
    "         'D': set(['B']),\n",
    "         'E': set(['B', 'F']),\n",
    "         'F': set(['C', 'E'])}\n",
    "\n",
    "def bfs(graph, start, goal):\n",
    "    steps = 0\n",
    "    queue = [(start, [start])]\n",
    "    while queue:\n",
    "        steps += 1\n",
    "        (vertex, path) = queue.pop(0)\n",
    "        if vertex == goal:\n",
    "            return path, steps\n",
    "        for next in graph[vertex] - set(path):\n",
    "            queue.append((next, path + [next]))\n",
    "\n",
    "def run_bfs(start, goal):\n",
    "    path, steps = bfs(graph, start, goal)\n",
    "    print(\"Path: \" + str(path))\n",
    "    print(\"Steps: \" + str(steps))\n",
    "\n",
    "interact(run_bfs, start=['A','B','C','D','E','F'], goal=['A','B','C','D','E','F'])\n"
   ]
  },
  {
   "cell_type": "markdown",
   "metadata": {},
   "source": [
    "## Graph Class"
   ]
  },
  {
   "cell_type": "code",
   "execution_count": 4,
   "metadata": {},
   "outputs": [],
   "source": [
    "class Graph:\n",
    "        \n",
    "    def __init__(self, grid, terrain_costs={'g':1, 'f':2, 'h':3, 'm':6, 'w':float('inf')}):\n",
    "        self.map = grid\n",
    "        self.terrain_costs = terrain_costs\n",
    "        self.parse_map(grid)\n",
    "        \n",
    "    # Accepts a map of chars as grid\n",
    "    def parse_map(self, grid):\n",
    "        # Save dimensions\n",
    "        self.height = len(grid)\n",
    "        self.width = len(grid[0])\n",
    "        \n",
    "        # Set source and target in case the map doesn't specify\n",
    "        self.source = [0,0]\n",
    "        self.target = [len(grid)-1, len(grid[0])-1]\n",
    "    \n",
    "        # Build an array of same dimensions to store costs of movement (default 1)\n",
    "        self.costs = [[1 for col in range(len(grid[row]))] for row in range(len(grid))]\n",
    "    \n",
    "        # Iterate over map of chars\n",
    "        for row in range(len(self.costs)):\n",
    "            for col in range(len(self.costs[0])):\n",
    "                # Found the source!\n",
    "                if grid[row][col] == 's':\n",
    "                    self.source = [row,col]\n",
    "                # Found the target!\n",
    "                elif grid[row][col] =='t':\n",
    "                    self.target = [row,col]\n",
    "                # Look up the cost for terrain type and assign to costs grid\n",
    "                else:\n",
    "                    self.costs[row][col] = self.terrain_costs[grid[row][col]]\n",
    "    \n",
    "    # Returns true if the passed loc is within the grid\n",
    "    def in_bounds(self, loc):\n",
    "        row, col = loc\n",
    "        return 0 <= row < self.height and 0 <= col < self.width\n",
    "    \n",
    "    # Returns the cost of moving into the gridsquare loc\n",
    "    def cost(self, loc):\n",
    "        row, col = loc\n",
    "        return self.costs[row][col]"
   ]
  },
  {
   "cell_type": "markdown",
   "metadata": {},
   "source": [
    "## Priority Queue"
   ]
  },
  {
   "cell_type": "code",
   "execution_count": 5,
   "metadata": {},
   "outputs": [],
   "source": [
    "class Priority_Queue():\n",
    "    \n",
    "    # Declare list to use for the queue\n",
    "    def __init__(self):\n",
    "        self.Q = []\n",
    "    \n",
    "    # Add item to queue and sort by priority\n",
    "    def put(self, item):\n",
    "        self.Q.append(item)\n",
    "        self.Q.sort()\n",
    "    \n",
    "    # Pop off the front of the queue and return item\n",
    "    def get(self):\n",
    "        if not self.empty():\n",
    "            item = self.Q.pop(0)\n",
    "            return item\n",
    "        else:\n",
    "            return None\n",
    "    # Returns true if the queue is empty\n",
    "    def empty(self):\n",
    "        return len(self.Q) == 0"
   ]
  },
  {
   "cell_type": "markdown",
   "metadata": {},
   "source": [
    "## Utility Code"
   ]
  },
  {
   "cell_type": "code",
   "execution_count": 6,
   "metadata": {},
   "outputs": [],
   "source": [
    "terrain_costs = {'g':1, 'f':2, 'h':3, 'm':6, 'w':float('inf')}\n",
    "\n",
    "map_1 = [['s','g','g','g','g','g','g','g'],\n",
    "         ['g','g','g','g','g','g','g','g'],\n",
    "         ['g','g','g','g','g','g','g','g'],\n",
    "         ['g','g','g','g','g','g','g','g'],\n",
    "         ['g','g','g','g','g','g','g','g'],\n",
    "         ['g','g','g','g','g','g','g','g'],\n",
    "         ['g','g','g','g','g','g','g','g'],\n",
    "         ['g','g','g','g','g','g','g','t']]\n",
    "\n",
    "map_2 = [['s','g','g','g','w','g','g','g'],\n",
    "         ['g','g','g','g','w','g','g','g'],\n",
    "         ['g','g','g','g','w','g','g','g'],\n",
    "         ['g','g','g','g','w','g','g','g'],\n",
    "         ['g','w','w','w','w','g','g','g'],\n",
    "         ['g','g','g','g','g','g','g','g'],\n",
    "         ['g','g','g','g','g','g','g','g'],\n",
    "         ['g','g','g','g','g','g','g','t']]\n",
    "\n",
    "map_3 = [['s','g','g','f','f','g','g','f'],\n",
    "         ['g','g','f','h','h','f','g','g'],\n",
    "         ['f','f','h','m','h','f','h','g'],\n",
    "         ['f','h','m','h','f','h','m','h'],\n",
    "         ['f','h','h','f','g','g','h','m'],\n",
    "         ['f','f','f','g','g','g','g','h'],\n",
    "         ['g','g','g','g','h','g','g','g'],\n",
    "         ['g','m','m','m','m','h','g','t']]\n",
    "\n",
    "map_4 = [['s','g','g','f','f','g','g','f'],\n",
    "         ['g','g','f','h','h','f','g','g'],\n",
    "         ['f','f','h','m','h','f','h','g'],\n",
    "         ['f','h','m','h','f','h','m','h'],\n",
    "         ['f','h','h','f','g','f','h','m'],\n",
    "         ['f','f','f','g','g','g','g','h'],\n",
    "         ['g','g','g','g','h','g','g','g'],\n",
    "         ['g','m','m','m','m','h','g','t']]\n",
    "\n",
    "map_5 = [['s','g','g','g','g','g','g','t'],\n",
    "         ['g','g','g','g','g','g','g','g'],\n",
    "         ['g','g','g','g','g','g','g','g'],\n",
    "         ['g','g','g','g','g','g','g','g'],\n",
    "         ['g','g','g','g','g','g','g','g'],\n",
    "         ['g','g','g','g','g','g','g','g'],\n",
    "         ['g','g','g','g','g','g','g','g'],\n",
    "         ['g','g','g','g','g','g','g','g']]\n",
    "\n",
    "maps = [map_1, map_2, map_3, map_4, map_5]\n",
    "map_files = ['small_map1.png', 'small_map2.png',\n",
    "             'small_map3.png', 'small_map4.png',\n",
    "             'small_map5.png']\n",
    "\n",
    "directions = [[-1, 0 ], # Up\n",
    "             [ 0, -1],  # Left\n",
    "             [ 1, 0 ],  # Down\n",
    "             [ 0, 1 ]]  # Right\n",
    "\n",
    "direction_symbols = [\"^\", # Up \n",
    "                     \"<\", # Left\n",
    "                     \"V\", # Down\n",
    "                     \">\"] # Right\n",
    "\n",
    "def print_grid(name, grid):\n",
    "    print(name + \": \")\n",
    "    for row in grid:\n",
    "        print(row)\n",
    "    print()"
   ]
  },
  {
   "cell_type": "markdown",
   "metadata": {},
   "source": [
    "## Dijkstra's"
   ]
  },
  {
   "cell_type": "code",
   "execution_count": 7,
   "metadata": {},
   "outputs": [],
   "source": [
    "def dijkstra(graph):\n",
    "    # Initialize Priority Queue with source\n",
    "    Q = Priority_Queue()\n",
    "    Q.put([0, graph.source])\n",
    "    \n",
    "    # Start all costs at infinity to indicate unvisted nodes\n",
    "    # The cost to reach the source is set to 0\n",
    "    cur_costs = [[float('inf') for col in range(graph.width)] for row in range(graph.height)]\n",
    "    cur_costs[graph.source[0]][graph.source[1]] = 0\n",
    "    \n",
    "    # Fill prev grid with blanks so the eventual path will stand out\n",
    "    prev = [[' ' for col in range(graph.width)] for row in range(graph.height)]\n",
    "    \n",
    "    # Keep track of the number of loops\n",
    "    steps = 0\n",
    "    \n",
    "    # Continue while there are still nodes in the queue\n",
    "    while not Q.empty():\n",
    "        steps += 1\n",
    "        \n",
    "        # Get the closest node\n",
    "        closest = Q.get()\n",
    "        current = closest[1]\n",
    "        \n",
    "        # End search when reaching target\n",
    "        if current == graph.target:\n",
    "            return cur_costs, prev, steps\n",
    "\n",
    "        # Loop through all the neighbors of the current node\n",
    "        for i in range(len(directions)):\n",
    "            n_row = current[0] + directions[i][0]\n",
    "            n_col = current[1] + directions[i][1]\n",
    "            \n",
    "            # Verify the neighbor is INSIDE the grid\n",
    "            if graph.in_bounds([n_row, n_col]):\n",
    "                \n",
    "                # Calculate the cost of visiting neighbor\n",
    "                new_cost = cur_costs[current[0]][current[1]] + graph.cost([n_row, n_col])\n",
    "                \n",
    "                # If this new cost is less than what the neighbor already has stored update and add to queue\n",
    "                if new_cost < cur_costs[n_row][n_col]:\n",
    "                    cur_costs[n_row][n_col] = new_cost\n",
    "                    Q.put([new_cost, [n_row, n_col]])\n",
    "                    \n",
    "                    # Store direction needed to get to the neighbor\n",
    "                    prev[n_row][n_col] = i\n",
    "                    \n",
    "    return cur_costs, prev, steps"
   ]
  },
  {
   "cell_type": "markdown",
   "metadata": {},
   "source": [
    "## Build Path"
   ]
  },
  {
   "cell_type": "code",
   "execution_count": 8,
   "metadata": {},
   "outputs": [],
   "source": [
    "# Builds path by working backwards from target\n",
    "def build_path(prev, source, target):\n",
    "    # Create a 2D list of the same size as the map\n",
    "    path = [[' ' for col in range(len(prev[row]))] for row in range(len(prev))]\n",
    "    \n",
    "    # Get target node\n",
    "    row, col = target\n",
    "    \n",
    "    # Designate the target node in the path grid\n",
    "    path[row][col] = '*'\n",
    "    \n",
    "    # Continue until reaching the source node\n",
    "    while [row, col] != source:\n",
    "        # Apply the stored movement direction to the current node to find next node\n",
    "        new_row = row - directions[prev[row][col]][0]\n",
    "        new_col = col - directions[prev[row][col]][1]\n",
    "        # Insert the corresponding direction symbol to the next node\n",
    "        path[new_row][new_col] = direction_symbols[prev[row][col]]\n",
    "        # Update the current node\n",
    "        row = new_row\n",
    "        col = new_col\n",
    "    return path"
   ]
  },
  {
   "cell_type": "markdown",
   "metadata": {},
   "source": [
    "## A*"
   ]
  },
  {
   "cell_type": "code",
   "execution_count": 9,
   "metadata": {},
   "outputs": [],
   "source": [
    "def heuristic(a, b):\n",
    "    row_1, col_1 = a\n",
    "    row_2, col_2 = b\n",
    "    return abs(row_1 - row_2) + abs(col_1 - col_2)\n",
    "\n",
    "def a_star(graph):\n",
    "    # Initialize Priority Queue with source\n",
    "    Q = Priority_Queue()\n",
    "    Q.put([0, graph.source])\n",
    "    \n",
    "    # Start all costs at infinity to indicate unvisted nodes\n",
    "    # The cost to reach the source is set to 0\n",
    "    cur_costs = [[float('inf') for col in range(graph.width)] for row in range(graph.height)]\n",
    "    cur_costs[graph.source[0]][graph.source[1]] = 0\n",
    "    \n",
    "    # Fill prev grid with blanks so the eventual path will stand out\n",
    "    prev = [[' ' for col in range(graph.width)] for row in range(graph.height)]\n",
    "    \n",
    "    # Keep track of the number of loops\n",
    "    steps = 0\n",
    "    \n",
    "    # Continue while there are still nodes in the queue\n",
    "    while not Q.empty():\n",
    "        steps += 1\n",
    "        \n",
    "        # Get the closest node\n",
    "        closest = Q.get()\n",
    "        current = closest[1]\n",
    "        \n",
    "        # End search when reaching target\n",
    "        if current == graph.target:\n",
    "            return cur_costs, prev, steps\n",
    "\n",
    "        # Loop through all the neighbors of the current node\n",
    "        for i in range(len(directions)):\n",
    "            n_row = current[0] + directions[i][0]\n",
    "            n_col = current[1] + directions[i][1]\n",
    "            \n",
    "            # Verify the neighbor is INSIDE the grid\n",
    "            if graph.in_bounds([n_row, n_col]):\n",
    "                \n",
    "                # Calculate the cost of visiting neighbor\n",
    "                new_cost = cur_costs[current[0]][current[1]] + graph.cost([n_row, n_col])\n",
    "                \n",
    "                # If this new cost is less than what the neighbor already has stored update and add to queue\n",
    "                if new_cost < cur_costs[n_row][n_col]:\n",
    "                    cur_costs[n_row][n_col] = new_cost\n",
    "                    \n",
    "                    # THIS IS THE UPDATED LINE WITH HEURISTIC\n",
    "                    Q.put([new_cost + heuristic(graph.target, [n_row, n_col]), [n_row, n_col]])\n",
    "                    \n",
    "                    # Store direction needed to get to the neighbor\n",
    "                    prev[n_row][n_col] = i\n",
    "                    \n",
    "    return cur_costs, prev, steps"
   ]
  },
  {
   "cell_type": "markdown",
   "metadata": {},
   "source": [
    "## Dijkstra's Playground"
   ]
  },
  {
   "cell_type": "code",
   "execution_count": 10,
   "metadata": {},
   "outputs": [
    {
     "data": {
      "application/vnd.jupyter.widget-view+json": {
       "model_id": "cbdc6961a6c443bb8f95259d41fc2061",
       "version_major": 2,
       "version_minor": 0
      },
      "text/html": [
       "<p>Failed to display Jupyter Widget of type <code>interactive</code>.</p>\n",
       "<p>\n",
       "  If you're reading this message in the Jupyter Notebook or JupyterLab Notebook, it may mean\n",
       "  that the widgets JavaScript is still loading. If this message persists, it\n",
       "  likely means that the widgets JavaScript library is either not installed or\n",
       "  not enabled. See the <a href=\"https://ipywidgets.readthedocs.io/en/stable/user_install.html\">Jupyter\n",
       "  Widgets Documentation</a> for setup instructions.\n",
       "</p>\n",
       "<p>\n",
       "  If you're reading this message in another frontend (for example, a static\n",
       "  rendering on GitHub or <a href=\"https://nbviewer.jupyter.org/\">NBViewer</a>),\n",
       "  it may mean that your frontend doesn't currently support widgets.\n",
       "</p>\n"
      ],
      "text/plain": [
       "interactive(children=(Dropdown(description=u'map_select', options=(1, 2, 3, 4, 5), value=1), Checkbox(value=True, description=u'show_path'), Checkbox(value=True, description=u'show_image'), Checkbox(value=False, description=u'show_cost'), Output()), _dom_classes=('widget-interact',))"
      ]
     },
     "metadata": {},
     "output_type": "display_data"
    },
    {
     "data": {
      "text/plain": [
       "<function __main__.run_dijkstra>"
      ]
     },
     "execution_count": 10,
     "metadata": {},
     "output_type": "execute_result"
    }
   ],
   "source": [
    "def run_dijkstra(map_select=1, show_path=True, show_image=True, show_cost=False):\n",
    "    graph = Graph(maps[map_select - 1], terrain_costs)\n",
    "    costs, prev, steps = dijkstra(graph)\n",
    "    print(\"Number of steps: \" + str(steps))\n",
    "    print()\n",
    "    if show_cost:\n",
    "        print_grid(\"Costs:\", costs)\n",
    "    path = build_path(prev, graph.source, graph.target)\n",
    "    if show_path:\n",
    "        print_grid(\"Path\", path)\n",
    "    if show_image:\n",
    "        display(Image(filename='./images/' + map_files[map_select-1]))\n",
    "\n",
    "interact(run_dijkstra, map_select=[1,2,3,4,5], show_path=True, show_image=True, show_cost=False)"
   ]
  },
  {
   "cell_type": "markdown",
   "metadata": {},
   "source": [
    "## A*'s Playground"
   ]
  },
  {
   "cell_type": "code",
   "execution_count": 11,
   "metadata": {},
   "outputs": [
    {
     "data": {
      "application/vnd.jupyter.widget-view+json": {
       "model_id": "2f99f92e79444220875efccfe7b3a372",
       "version_major": 2,
       "version_minor": 0
      },
      "text/html": [
       "<p>Failed to display Jupyter Widget of type <code>interactive</code>.</p>\n",
       "<p>\n",
       "  If you're reading this message in the Jupyter Notebook or JupyterLab Notebook, it may mean\n",
       "  that the widgets JavaScript is still loading. If this message persists, it\n",
       "  likely means that the widgets JavaScript library is either not installed or\n",
       "  not enabled. See the <a href=\"https://ipywidgets.readthedocs.io/en/stable/user_install.html\">Jupyter\n",
       "  Widgets Documentation</a> for setup instructions.\n",
       "</p>\n",
       "<p>\n",
       "  If you're reading this message in another frontend (for example, a static\n",
       "  rendering on GitHub or <a href=\"https://nbviewer.jupyter.org/\">NBViewer</a>),\n",
       "  it may mean that your frontend doesn't currently support widgets.\n",
       "</p>\n"
      ],
      "text/plain": [
       "interactive(children=(Dropdown(description=u'map_select', options=(1, 2, 3, 4, 5), value=1), Checkbox(value=True, description=u'show_path'), Checkbox(value=True, description=u'show_image'), Checkbox(value=False, description=u'show_cost'), Output()), _dom_classes=('widget-interact',))"
      ]
     },
     "metadata": {},
     "output_type": "display_data"
    },
    {
     "data": {
      "text/plain": [
       "<function __main__.run_a_star>"
      ]
     },
     "execution_count": 11,
     "metadata": {},
     "output_type": "execute_result"
    }
   ],
   "source": [
    "def run_a_star(map_select=1, show_path=True, show_image=True, show_cost=False):\n",
    "    graph = Graph(maps[map_select - 1], terrain_costs)\n",
    "    costs, prev, steps = a_star(graph)\n",
    "    print(\"Number of steps: \" + str(steps))\n",
    "    print()\n",
    "    if show_cost:\n",
    "        print_grid(\"Costs:\", costs)\n",
    "    path = build_path(prev, graph.source, graph.target)\n",
    "    if show_path:\n",
    "        print_grid(\"Path\", path)\n",
    "    if show_image:\n",
    "        display(Image(filename='./images/' + map_files[map_select-1]))\n",
    "\n",
    "interact(run_a_star, map_select=[1,2,3,4,5], show_path=True, show_image=True, show_cost=False)"
   ]
  }
 ],
 "metadata": {
  "kernelspec": {
   "display_name": "Python 2",
   "language": "python",
   "name": "python2"
  },
  "language_info": {
   "codemirror_mode": {
    "name": "ipython",
    "version": 2
   },
   "file_extension": ".py",
   "mimetype": "text/x-python",
   "name": "python",
   "nbconvert_exporter": "python",
   "pygments_lexer": "ipython2",
   "version": "2.7.13"
  }
 },
 "nbformat": 4,
 "nbformat_minor": 2
}
